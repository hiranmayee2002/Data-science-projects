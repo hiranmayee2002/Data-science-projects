{
  "cells": [
    {
      "cell_type": "code",
      "execution_count": null,
      "metadata": {
        "id": "7dR4iBXK_OUd",
        "outputId": "b0ff186f-efcf-4232-9b86-2a370a829586"
      },
      "outputs": [
        {
          "data": {
            "text/plain": [
              "Anemia Status\n",
              "0    3988\n",
              "1    1012\n",
              "Name: count, dtype: int64"
            ]
          },
          "execution_count": 16,
          "metadata": {},
          "output_type": "execute_result"
        }
      ],
      "source": [
        "# Target colun value counts\n",
        "df['Anemia Status'].value_counts()"
      ]
    },
    {
      "cell_type": "code",
      "execution_count": null,
      "metadata": {
        "id": "jPZpXPXY_OUd",
        "outputId": "cce19210-2f3d-42fb-cf8b-ff04074cebea"
      },
      "outputs": [
        {
          "name": "stderr",
          "output_type": "stream",
          "text": [
            "C:\\Users\\0630\\AppData\\Roaming\\Python\\Python310\\site-packages\\seaborn\\_oldcore.py:1498: FutureWarning: is_categorical_dtype is deprecated and will be removed in a future version. Use isinstance(dtype, CategoricalDtype) instead\n",
            "  if pd.api.types.is_categorical_dtype(vector):\n",
            "C:\\Users\\0630\\AppData\\Roaming\\Python\\Python310\\site-packages\\seaborn\\_oldcore.py:1119: FutureWarning: use_inf_as_na option is deprecated and will be removed in a future version. Convert inf values to NaN before operating instead.\n",
            "  with pd.option_context('mode.use_inf_as_na', True):\n"
          ]
        },
        {
          "data": {
            "text/plain": [
              "<AxesSubplot:title={'center':'Target column Value counts'}, xlabel='Anemia Status', ylabel='Count'>"
            ]
          },
          "execution_count": 17,
          "metadata": {},
          "output_type": "execute_result"
        },
        {
          "data": {
            "image/png": "[encoded data removed]",
            "text/plain": [
              "<Figure size 640x480 with 1 Axes>"
            ]
          },
          "metadata": {},
          "output_type": "display_data"
        }
      ],
      "source": [
        "# count plot of Target column\n",
        "plt.title('Target column Value counts')\n",
        "sns.histplot(df['Anemia Status'])"
      ]
    },
    {
      "cell_type": "markdown",
      "metadata": {
        "id": "wMKt0G_K_OUd"
      },
      "source": [
        "# **Pre-processing**"
      ]
    },
    {
      "cell_type": "code",
      "execution_count": null,
      "metadata": {
        "id": "A3Qz-YJm_OUd",
        "outputId": "8e85a512-7e14-46da-b2f7-f436b9ad4462"
      },
      "outputs": [
        {
          "data": {
            "text/plain": [
              "Eye Redness                0\n",
              "Eye Dryness                0\n",
              "Conjunctival Pallor        0\n",
              "Corneal Clarity            0\n",
              "Pupil Size                 0\n",
              "Tear Production            0\n",
              "Blink Rate                 0\n",
              "Visual Acuity              0\n",
              "Eye Pressure               0\n",
              "Retinal Health             0\n",
              "Iris Color Uniformity      0\n",
              "Eyelid Swelling            0\n",
              "Vitreous Humor Clarity     0\n",
              "Macular Health             0\n",
              "Optic Nerve Health         0\n",
              "Ocular Motility            0\n",
              "Lacrimal Gland Function    0\n",
              "Corneal Sensitivity        0\n",
              "Uvea Health                0\n",
              "Anemia Status              0\n",
              "dtype: int64"
            ]
          },
          "execution_count": 25,
          "metadata": {},
          "output_type": "execute_result"
        }
      ],
      "source": [
        "df.isnull().sum()"
      ]
    },
    {
      "cell_type": "code",
      "execution_count": null,
      "metadata": {
        "id": "FH3Gf3fW_OUd"
      },
      "outputs": [],
      "source": [
        "#split data in trai and test\n",
        "from sklearn.model_selection import train_test_split\n",
        "\n",
        "x = df.drop('Anemia Status',axis=1)\n",
        "y =  df['Anemia Status']\n",
        "\n",
        "x_train,x_test,y_train,y_test = train_test_split(x,y,test_size=0.3)"
      ]
    },
    {
      "cell_type": "code",
      "execution_count": null,
      "metadata": {
        "colab": {
          "base_uri": "https://localhost:8080/"
        },
        "id": "h8xKVlqU_OUe",
        "outputId": "8242c5a2-e1bf-47bd-a43b-35657e074939"
      },
      "outputs": [
        {
          "output_type": "stream",
          "name": "stdout",
          "text": [
            "(3500, 19)\n",
            "(3500,)\n",
            "(1500, 19)\n",
            "(1500,)\n"
          ]
        }
      ],
      "source": [
        "print(x_train.shape)\n",
        "print(y_train.shape)\n",
        "print(x_test.shape)\n",
        "print(y_test.shape)"
      ]
    },
    {
      "cell_type": "markdown",
      "metadata": {
        "id": "5Vsneyob_OUe"
      },
      "source": [
        "# **Model Train**"
      ]
    },
    {
      "cell_type": "code",
      "execution_count": null,
      "metadata": {
        "id": "OT75IalI_OUe"
      },
      "outputs": [],
      "source": [
        "from sklearn.metrics import accuracy_score,classification_report"
      ]
    },
    {
      "cell_type": "markdown",
      "metadata": {
        "id": "GNQFJppU_OUe"
      },
      "source": [
        "## **naive_bayes**"
      ]
    },
    {
      "cell_type": "code",
      "execution_count": null,
      "metadata": {
        "colab": {
          "base_uri": "https://localhost:8080/"
        },
        "id": "Y4yiOP30_OUe",
        "outputId": "e592969c-5bb4-4fa0-f274-894140aef43a"
      },
      "outputs": [
        {
          "output_type": "stream",
          "name": "stdout",
          "text": [
            "The accuracy score of naive bayes 0.796\n",
            "____________________________________\n",
            "              precision    recall  f1-score   support\n",
            "\n",
            "           0       1.00      0.80      0.89      1500\n",
            "           1       0.00      0.00      0.00         0\n",
            "\n",
            "    accuracy                           0.80      1500\n",
            "   macro avg       0.50      0.40      0.44      1500\n",
            "weighted avg       1.00      0.80      0.89      1500\n",
            "\n"
          ]
        },
        {
          "output_type": "stream",
          "name": "stderr",
          "text": [
            "/usr/local/lib/python3.12/dist-packages/sklearn/metrics/_classification.py:1565: UndefinedMetricWarning: Recall is ill-defined and being set to 0.0 in labels with no true samples. Use `zero_division` parameter to control this behavior.\n",
            "  _warn_prf(average, modifier, f\"{metric.capitalize()} is\", len(result))\n",
            "/usr/local/lib/python3.12/dist-packages/sklearn/metrics/_classification.py:1565: UndefinedMetricWarning: Recall is ill-defined and being set to 0.0 in labels with no true samples. Use `zero_division` parameter to control this behavior.\n",
            "  _warn_prf(average, modifier, f\"{metric.capitalize()} is\", len(result))\n",
            "/usr/local/lib/python3.12/dist-packages/sklearn/metrics/_classification.py:1565: UndefinedMetricWarning: Recall is ill-defined and being set to 0.0 in labels with no true samples. Use `zero_division` parameter to control this behavior.\n",
            "  _warn_prf(average, modifier, f\"{metric.capitalize()} is\", len(result))\n"
          ]
        }
      ],
      "source": [
        "from sklearn.naive_bayes import GaussianNB\n",
        "nb = GaussianNB()\n",
        "nb.fit(x_train,y_train)\n",
        "nb_pred = nb.predict(x_test)\n",
        "nb_ac = accuracy_score(nb_pred,y_test)\n",
        "print(f'The accuracy score of naive bayes {nb_ac}')\n",
        "nb_clas = classification_report(nb_pred,y_test)\n",
        "print('____________________________________')\n",
        "print(nb_clas)\n"
      ]
    },
    {
      "cell_type": "markdown",
      "metadata": {
        "id": "mAqLuMbj_OUe"
      },
      "source": [
        "## **DecisionTreeClassifier**"
      ]
    },
    {
      "cell_type": "code",
      "execution_count": null,
      "metadata": {
        "id": "r0mIteaP_OUf",
        "outputId": "1c4c31fa-31f5-4106-9b51-2892964b3cba"
      },
      "outputs": [
        {
          "name": "stdout",
          "output_type": "stream",
          "text": [
            "The accuracy score of DecisionTreeClassifier 0.64\n",
            "____________________________________\n",
            "              precision    recall  f1-score   support\n",
            "\n",
            "           0       0.76      0.78      0.77      1150\n",
            "           1       0.20      0.18      0.19       350\n",
            "\n",
            "    accuracy                           0.64      1500\n",
            "   macro avg       0.48      0.48      0.48      1500\n",
            "weighted avg       0.63      0.64      0.63      1500\n",
            "\n"
          ]
        },
        {
          "name": "stderr",
          "output_type": "stream",
          "text": [
            "C:\\Users\\0630\\AppData\\Roaming\\Python\\Python310\\site-packages\\sklearn\\utils\\validation.py:757: FutureWarning: is_sparse is deprecated and will be removed in a future version. Check `isinstance(dtype, pd.SparseDtype)` instead.\n",
            "  if not hasattr(array, \"sparse\") and array.dtypes.apply(is_sparse).any():\n",
            "C:\\Users\\0630\\AppData\\Roaming\\Python\\Python310\\site-packages\\sklearn\\utils\\validation.py:595: FutureWarning: is_sparse is deprecated and will be removed in a future version. Check `isinstance(dtype, pd.SparseDtype)` instead.\n",
            "  if is_sparse(pd_dtype):\n",
            "C:\\Users\\0630\\AppData\\Roaming\\Python\\Python310\\site-packages\\sklearn\\utils\\validation.py:604: FutureWarning: is_sparse is deprecated and will be removed in a future version. Check `isinstance(dtype, pd.SparseDtype)` instead.\n",
            "  if is_sparse(pd_dtype) or not is_extension_array_dtype(pd_dtype):\n",
            "C:\\Users\\0630\\AppData\\Roaming\\Python\\Python310\\site-packages\\sklearn\\utils\\validation.py:757: FutureWarning: is_sparse is deprecated and will be removed in a future version. Check `isinstance(dtype, pd.SparseDtype)` instead.\n",
            "  if not hasattr(array, \"sparse\") and array.dtypes.apply(is_sparse).any():\n",
            "C:\\Users\\0630\\AppData\\Roaming\\Python\\Python310\\site-packages\\sklearn\\utils\\validation.py:595: FutureWarning: is_sparse is deprecated and will be removed in a future version. Check `isinstance(dtype, pd.SparseDtype)` instead.\n",
            "  if is_sparse(pd_dtype):\n",
            "C:\\Users\\0630\\AppData\\Roaming\\Python\\Python310\\site-packages\\sklearn\\utils\\validation.py:604: FutureWarning: is_sparse is deprecated and will be removed in a future version. Check `isinstance(dtype, pd.SparseDtype)` instead.\n",
            "  if is_sparse(pd_dtype) or not is_extension_array_dtype(pd_dtype):\n"
          ]
        }
      ],
      "source": [
        "from sklearn.tree import DecisionTreeClassifier\n",
        "de = DecisionTreeClassifier()\n",
        "de.fit(x_train,y_train)\n",
        "de_pred = de.predict(x_test)\n",
        "de_ac = accuracy_score(de_pred,y_test)\n",
        "print(f'The accuracy score of DecisionTreeClassifier {de_ac}')\n",
        "de_clas = classification_report(de_pred,y_test)\n",
        "print('____________________________________')\n",
        "print(de_clas)"
      ]
    },
    {
      "cell_type": "code",
      "execution_count": null,
      "metadata": {
        "id": "CUYRIIow_OUf",
        "outputId": "a2e76d50-b37b-4d61-c766-f7077921fd36"
      },
      "outputs": [
        {
          "name": "stderr",
          "output_type": "stream",
          "text": [
            "C:\\Users\\0630\\AppData\\Roaming\\Python\\Python310\\site-packages\\sklearn\\utils\\validation.py:757: FutureWarning: is_sparse is deprecated and will be removed in a future version. Check `isinstance(dtype, pd.SparseDtype)` instead.\n",
            "  if not hasattr(array, \"sparse\") and array.dtypes.apply(is_sparse).any():\n",
            "C:\\Users\\0630\\AppData\\Roaming\\Python\\Python310\\site-packages\\sklearn\\utils\\validation.py:595: FutureWarning: is_sparse is deprecated and will be removed in a future version. Check `isinstance(dtype, pd.SparseDtype)` instead.\n",
            "  if is_sparse(pd_dtype):\n",
            "C:\\Users\\0630\\AppData\\Roaming\\Python\\Python310\\site-packages\\sklearn\\utils\\validation.py:604: FutureWarning: is_sparse is deprecated and will be removed in a future version. Check `isinstance(dtype, pd.SparseDtype)` instead.\n",
            "  if is_sparse(pd_dtype) or not is_extension_array_dtype(pd_dtype):\n"
          ]
        },
        {
          "name": "stdout",
          "output_type": "stream",
          "text": [
            "The accuracy score of RandomForestClassifier 0.7906666666666666\n",
            "____________________________________\n",
            "              precision    recall  f1-score   support\n",
            "\n",
            "           0       1.00      0.79      0.88      1500\n",
            "           1       0.00      0.00      0.00         0\n",
            "\n",
            "    accuracy                           0.79      1500\n",
            "   macro avg       0.50      0.40      0.44      1500\n",
            "weighted avg       1.00      0.79      0.88      1500\n",
            "\n"
          ]
        },
        {
          "name": "stderr",
          "output_type": "stream",
          "text": [
            "C:\\Users\\0630\\AppData\\Roaming\\Python\\Python310\\site-packages\\sklearn\\utils\\validation.py:757: FutureWarning: is_sparse is deprecated and will be removed in a future version. Check `isinstance(dtype, pd.SparseDtype)` instead.\n",
            "  if not hasattr(array, \"sparse\") and array.dtypes.apply(is_sparse).any():\n",
            "C:\\Users\\0630\\AppData\\Roaming\\Python\\Python310\\site-packages\\sklearn\\utils\\validation.py:595: FutureWarning: is_sparse is deprecated and will be removed in a future version. Check `isinstance(dtype, pd.SparseDtype)` instead.\n",
            "  if is_sparse(pd_dtype):\n",
            "C:\\Users\\0630\\AppData\\Roaming\\Python\\Python310\\site-packages\\sklearn\\utils\\validation.py:604: FutureWarning: is_sparse is deprecated and will be removed in a future version. Check `isinstance(dtype, pd.SparseDtype)` instead.\n",
            "  if is_sparse(pd_dtype) or not is_extension_array_dtype(pd_dtype):\n",
            "C:\\Users\\0630\\AppData\\Roaming\\Python\\Python310\\site-packages\\sklearn\\metrics\\_classification.py:1334: UndefinedMetricWarning: Recall and F-score are ill-defined and being set to 0.0 in labels with no true samples. Use `zero_division` parameter to control this behavior.\n",
            "  _warn_prf(average, modifier, msg_start, len(result))\n",
            "C:\\Users\\0630\\AppData\\Roaming\\Python\\Python310\\site-packages\\sklearn\\metrics\\_classification.py:1334: UndefinedMetricWarning: Recall and F-score are ill-defined and being set to 0.0 in labels with no true samples. Use `zero_division` parameter to control this behavior.\n",
            "  _warn_prf(average, modifier, msg_start, len(result))\n",
            "C:\\Users\\0630\\AppData\\Roaming\\Python\\Python310\\site-packages\\sklearn\\metrics\\_classification.py:1334: UndefinedMetricWarning: Recall and F-score are ill-defined and being set to 0.0 in labels with no true samples. Use `zero_division` parameter to control this behavior.\n",
            "  _warn_prf(average, modifier, msg_start, len(result))\n"
          ]
        }
      ],
      "source": [
        "from sklearn.ensemble import RandomForestClassifier\n",
        "ra = RandomForestClassifier()\n",
        "ra.fit(x_train,y_train)\n",
        "ra_pred = ra.predict(x_test)\n",
        "ra_ac = accuracy_score(ra_pred,y_test)\n",
        "print(f'The accuracy score of RandomForestClassifier {ra_ac}')\n",
        "ra_clas = classification_report(ra_pred,y_test)\n",
        "print('____________________________________')\n",
        "print(ra_clas)"
      ]
    },
    {
      "cell_type": "markdown",
      "metadata": {
        "id": "bLx70141_OUg"
      },
      "source": [
        "# **Accuracuy comparison Graph**"
      ]
    },
    {
      "cell_type": "code",
      "execution_count": null,
      "metadata": {
        "id": "fdxRn0IE_OUg"
      },
      "outputs": [],
      "source": [
        "graph = pd.DataFrame({'Module':['naive bayes',\"DecisionTreeClassifier\",\"RandomForestClassifier\"],\n",
        "                      'Accuracy':[nb_ac,de_ac,ra_ac]})"
      ]
    },
    {
      "cell_type": "code",
      "execution_count": null,
      "metadata": {
        "id": "aLVL34_J_OUg",
        "outputId": "3b4f10ca-146d-43b8-f0e3-1770e5f25a86"
      },
      "outputs": [
        {
          "data": {
            "text/html": [
              "<div>\n",
              "<style scoped>\n",
              "    .dataframe tbody tr th:only-of-type {\n",
              "        vertical-align: middle;\n",
              "    }\n",
              "\n",
              "    .dataframe tbody tr th {\n",
              "        vertical-align: top;\n",
              "    }\n",
              "\n",
              "    .dataframe thead th {\n",
              "        text-align: right;\n",
              "    }\n",
              "</style>\n",
              "<table border=\"1\" class=\"dataframe\">\n",
              "  <thead>\n",
              "    <tr style=\"text-align: right;\">\n",
              "      <th></th>\n",
              "      <th>Module</th>\n",
              "      <th>Accuracy</th>\n",
              "    </tr>\n",
              "  </thead>\n",
              "  <tbody>\n",
              "    <tr>\n",
              "      <th>0</th>\n",
              "      <td>naive bayes</td>\n",
              "      <td>0.790667</td>\n",
              "    </tr>\n",
              "    <tr>\n",
              "      <th>1</th>\n",
              "      <td>DecisionTreeClassifier</td>\n",
              "      <td>0.640000</td>\n",
              "    </tr>\n",
              "    <tr>\n",
              "      <th>2</th>\n",
              "      <td>RandomForestClassifier</td>\n",
              "      <td>0.790667</td>\n",
              "    </tr>\n",
              "  </tbody>\n",
              "</table>\n",
              "</div>"
            ],
            "text/plain": [
              "                   Module  Accuracy\n",
              "0             naive bayes  0.790667\n",
              "1  DecisionTreeClassifier  0.640000\n",
              "2  RandomForestClassifier  0.790667"
            ]
          },
          "execution_count": 45,
          "metadata": {},
          "output_type": "execute_result"
        }
      ],
      "source": [
        "graph"
      ]
    },
    {
      "cell_type": "code",
      "execution_count": null,
      "metadata": {
        "id": "BA2mXRC2_OUh",
        "outputId": "d2947b51-117c-42e9-d6b4-7656532d9d3e"
      },
      "outputs": [
        {
          "data": {
            "image/png": "[encoded data removed]",
            "text/plain": [
              "<Figure size 800x600 with 1 Axes>"
            ]
          },
          "metadata": {},
          "output_type": "display_data"
        }
      ],
      "source": [
        "plt.figure(figsize=(8, 6))\n",
        "plt.bar(graph['Model'], graph['Accuracy'], color=['blue', 'green', 'red'])\n",
        "plt.title('Accuracy Comparison of ML Models')\n",
        "plt.xlabel('Models')\n",
        "plt.ylabel('Accuracy')\n",
        "plt.ylim(0, 1)  # Set the y-axis limit from 0 to 1 for accuracy\n",
        "plt.show()"
      ]
    },
    {
      "cell_type": "markdown",
      "metadata": {
        "id": "QiTm5IXu_OUh"
      },
      "source": [
        "# **Prediction**"
      ]
    },
    {
      "cell_type": "code",
      "execution_count": null,
      "metadata": {
        "id": "rlScl_qT_OUh",
        "outputId": "e5140269-f289-4f11-83bb-91023e4f4571"
      },
      "outputs": [
        {
          "data": {
            "text/html": [
              "<div>\n",
              "<style scoped>\n",
              "    .dataframe tbody tr th:only-of-type {\n",
              "        vertical-align: middle;\n",
              "    }\n",
              "\n",
              "    .dataframe tbody tr th {\n",
              "        vertical-align: top;\n",
              "    }\n",
              "\n",
              "    .dataframe thead th {\n",
              "        text-align: right;\n",
              "    }\n",
              "</style>\n",
              "<table border=\"1\" class=\"dataframe\">\n",
              "  <thead>\n",
              "    <tr style=\"text-align: right;\">\n",
              "      <th></th>\n",
              "      <th>Eye Redness</th>\n",
              "      <th>Eye Dryness</th>\n",
              "      <th>Conjunctival Pallor</th>\n",
              "      <th>Corneal Clarity</th>\n",
              "      <th>Pupil Size</th>\n",
              "      <th>Tear Production</th>\n",
              "      <th>Blink Rate</th>\n",
              "      <th>Visual Acuity</th>\n",
              "      <th>Eye Pressure</th>\n",
              "      <th>Retinal Health</th>\n",
              "      <th>Iris Color Uniformity</th>\n",
              "      <th>Eyelid Swelling</th>\n",
              "      <th>Vitreous Humor Clarity</th>\n",
              "      <th>Macular Health</th>\n",
              "      <th>Optic Nerve Health</th>\n",
              "      <th>Ocular Motility</th>\n",
              "      <th>Lacrimal Gland Function</th>\n",
              "      <th>Corneal Sensitivity</th>\n",
              "      <th>Uvea Health</th>\n",
              "      <th>Anemia Status</th>\n",
              "    </tr>\n",
              "  </thead>\n",
              "  <tbody>\n",
              "    <tr>\n",
              "      <th>0</th>\n",
              "      <td>0.604351</td>\n",
              "      <td>0.625877</td>\n",
              "      <td>0.478576</td>\n",
              "      <td>0.618943</td>\n",
              "      <td>0.561088</td>\n",
              "      <td>0.676392</td>\n",
              "      <td>0.946955</td>\n",
              "      <td>0.435142</td>\n",
              "      <td>0.146650</td>\n",
              "      <td>0.400925</td>\n",
              "      <td>0.627042</td>\n",
              "      <td>0.600381</td>\n",
              "      <td>0.535152</td>\n",
              "      <td>0.695794</td>\n",
              "      <td>0.402496</td>\n",
              "      <td>0.477432</td>\n",
              "      <td>0.654128</td>\n",
              "      <td>0.519117</td>\n",
              "      <td>0.616393</td>\n",
              "      <td>0</td>\n",
              "    </tr>\n",
              "    <tr>\n",
              "      <th>1</th>\n",
              "      <td>0.305300</td>\n",
              "      <td>0.707750</td>\n",
              "      <td>0.171636</td>\n",
              "      <td>0.574672</td>\n",
              "      <td>0.576297</td>\n",
              "      <td>0.500416</td>\n",
              "      <td>0.542061</td>\n",
              "      <td>0.166629</td>\n",
              "      <td>0.581399</td>\n",
              "      <td>0.350367</td>\n",
              "      <td>0.302028</td>\n",
              "      <td>0.458866</td>\n",
              "      <td>0.525419</td>\n",
              "      <td>0.673664</td>\n",
              "      <td>0.666972</td>\n",
              "      <td>0.369643</td>\n",
              "      <td>0.561013</td>\n",
              "      <td>0.282678</td>\n",
              "      <td>0.489622</td>\n",
              "      <td>1</td>\n",
              "    </tr>\n",
              "    <tr>\n",
              "      <th>2</th>\n",
              "      <td>0.427459</td>\n",
              "      <td>0.572444</td>\n",
              "      <td>0.812538</td>\n",
              "      <td>0.602531</td>\n",
              "      <td>0.651083</td>\n",
              "      <td>0.529676</td>\n",
              "      <td>0.654422</td>\n",
              "      <td>0.504173</td>\n",
              "      <td>0.563186</td>\n",
              "      <td>0.408572</td>\n",
              "      <td>0.584087</td>\n",
              "      <td>0.547697</td>\n",
              "      <td>0.085465</td>\n",
              "      <td>0.473336</td>\n",
              "      <td>0.366070</td>\n",
              "      <td>0.679939</td>\n",
              "      <td>0.408605</td>\n",
              "      <td>0.581402</td>\n",
              "      <td>0.453025</td>\n",
              "      <td>0</td>\n",
              "    </tr>\n",
              "    <tr>\n",
              "      <th>3</th>\n",
              "      <td>0.383067</td>\n",
              "      <td>0.395522</td>\n",
              "      <td>0.689640</td>\n",
              "      <td>0.572443</td>\n",
              "      <td>0.362260</td>\n",
              "      <td>0.600682</td>\n",
              "      <td>0.438335</td>\n",
              "      <td>0.634102</td>\n",
              "      <td>0.475251</td>\n",
              "      <td>0.726790</td>\n",
              "      <td>0.469605</td>\n",
              "      <td>0.473810</td>\n",
              "      <td>0.253477</td>\n",
              "      <td>0.381312</td>\n",
              "      <td>0.657833</td>\n",
              "      <td>0.716750</td>\n",
              "      <td>0.248372</td>\n",
              "      <td>0.359432</td>\n",
              "      <td>0.578454</td>\n",
              "      <td>1</td>\n",
              "    </tr>\n",
              "    <tr>\n",
              "      <th>4</th>\n",
              "      <td>0.430029</td>\n",
              "      <td>0.524621</td>\n",
              "      <td>0.424506</td>\n",
              "      <td>0.552704</td>\n",
              "      <td>0.583270</td>\n",
              "      <td>0.371061</td>\n",
              "      <td>0.418460</td>\n",
              "      <td>0.489815</td>\n",
              "      <td>0.541876</td>\n",
              "      <td>0.477635</td>\n",
              "      <td>0.614954</td>\n",
              "      <td>0.600051</td>\n",
              "      <td>0.465473</td>\n",
              "      <td>0.745591</td>\n",
              "      <td>0.241634</td>\n",
              "      <td>0.540042</td>\n",
              "      <td>0.511706</td>\n",
              "      <td>0.598109</td>\n",
              "      <td>0.981813</td>\n",
              "      <td>0</td>\n",
              "    </tr>\n",
              "  </tbody>\n",
              "</table>\n",
              "</div>"
            ],
            "text/plain": [
              "   Eye Redness  Eye Dryness  Conjunctival Pallor  Corneal Clarity  Pupil Size  \\\n",
              "0     0.604351     0.625877             0.478576         0.618943    0.561088   \n",
              "1     0.305300     0.707750             0.171636         0.574672    0.576297   \n",
              "2     0.427459     0.572444             0.812538         0.602531    0.651083   \n",
              "3     0.383067     0.395522             0.689640         0.572443    0.362260   \n",
              "4     0.430029     0.524621             0.424506         0.552704    0.583270   \n",
              "\n",
              "   Tear Production  Blink Rate  Visual Acuity  Eye Pressure  Retinal Health  \\\n",
              "0         0.676392    0.946955       0.435142      0.146650        0.400925   \n",
              "1         0.500416    0.542061       0.166629      0.581399        0.350367   \n",
              "2         0.529676    0.654422       0.504173      0.563186        0.408572   \n",
              "3         0.600682    0.438335       0.634102      0.475251        0.726790   \n",
              "4         0.371061    0.418460       0.489815      0.541876        0.477635   \n",
              "\n",
              "   Iris Color Uniformity  Eyelid Swelling  Vitreous Humor Clarity  \\\n",
              "0               0.627042         0.600381                0.535152   \n",
              "1               0.302028         0.458866                0.525419   \n",
              "2               0.584087         0.547697                0.085465   \n",
              "3               0.469605         0.473810                0.253477   \n",
              "4               0.614954         0.600051                0.465473   \n",
              "\n",
              "   Macular Health  Optic Nerve Health  Ocular Motility  \\\n",
              "0        0.695794            0.402496         0.477432   \n",
              "1        0.673664            0.666972         0.369643   \n",
              "2        0.473336            0.366070         0.679939   \n",
              "3        0.381312            0.657833         0.716750   \n",
              "4        0.745591            0.241634         0.540042   \n",
              "\n",
              "   Lacrimal Gland Function  Corneal Sensitivity  Uvea Health  Anemia Status  \n",
              "0                 0.654128             0.519117     0.616393              0  \n",
              "1                 0.561013             0.282678     0.489622              1  \n",
              "2                 0.408605             0.581402     0.453025              0  \n",
              "3                 0.248372             0.359432     0.578454              1  \n",
              "4                 0.511706             0.598109     0.981813              0  "
            ]
          },
          "execution_count": 48,
          "metadata": {},
          "output_type": "execute_result"
        }
      ],
      "source": [
        "df.head()"
      ]
    },
    {
      "cell_type": "code",
      "execution_count": null,
      "metadata": {
        "id": "2qPIdHfL_OUm"
      },
      "outputs": [],
      "source": [
        "inp = [\t0.604351,\t0.625877,\t0.478576,\t0.618943,\t0.561088,\t0.676392,\t0.946955,\t0.435142,\t0.146650,\t0.400925,\t0.627042,\t0.600381,\t0.535152,\t0.695794,\t0.402496,\t0.477432,\t0.654128,\t0.519117,\t0.616393\t]"
      ]
    },
    {
      "cell_type": "code",
      "execution_count": null,
      "metadata": {
        "id": "oztmtn8D_OUm",
        "outputId": "1956fa33-06b3-44df-c9c4-797bed68f1c5"
      },
      "outputs": [
        {
          "name": "stderr",
          "output_type": "stream",
          "text": [
            "C:\\Users\\0630\\AppData\\Roaming\\Python\\Python310\\site-packages\\sklearn\\base.py:450: UserWarning: X does not have valid feature names, but RandomForestClassifier was fitted with feature names\n",
            "  warnings.warn(\n"
          ]
        }
      ],
      "source": [
        "result = ra.predict([inp])"
      ]
    },
    {
      "cell_type": "code",
      "execution_count": null,
      "metadata": {
        "id": "O2YvLRGm_OUn",
        "outputId": "39850ede-4cdc-4eec-f0a3-ae06f706cac0"
      },
      "outputs": [
        {
          "data": {
            "text/plain": [
              "array([0], dtype=int64)"
            ]
          },
          "execution_count": 52,
          "metadata": {},
          "output_type": "execute_result"
        }
      ],
      "source": [
        "result"
      ]
    },
    {
      "cell_type": "code",
      "execution_count": null,
      "metadata": {
        "id": "9ivc_SoA_OUn",
        "outputId": "fc3c4fc4-13fd-4527-aba6-f8cde0e9cee9"
      },
      "outputs": [
        {
          "name": "stdout",
          "output_type": "stream",
          "text": [
            "non-anemic\n"
          ]
        }
      ],
      "source": [
        "if result == 0:\n",
        "    print('non-anemic')\n",
        "else:\n",
        "    print('anemic')"
      ]
    },
    {
      "cell_type": "code",
      "execution_count": null,
      "metadata": {
        "id": "OqOh15DS_OUn"
      },
      "outputs": [],
      "source": [
        "inp1 = [\t0.305300,\t0.707750,\t0.171636,\t0.574672,\t0.576297,\t0.500416,\t0.542061,\t0.166629,\t0.581399,\t0.350367,\t0.302028,\t0.458866,\t0.525419,\t0.673664,\t0.666972,\t0.369643,\t0.561013,\t0.282678,\t0.489622\t]"
      ]
    },
    {
      "cell_type": "code",
      "execution_count": null,
      "metadata": {
        "id": "O6a0C_JH_OUn",
        "outputId": "9c409851-013e-4f2a-8d54-1e3b13da2fa1"
      },
      "outputs": [
        {
          "name": "stderr",
          "output_type": "stream",
          "text": [
            "C:\\Users\\0630\\AppData\\Roaming\\Python\\Python310\\site-packages\\sklearn\\base.py:450: UserWarning: X does not have valid feature names, but RandomForestClassifier was fitted with feature names\n",
            "  warnings.warn(\n"
          ]
        }
      ],
      "source": [
        "result1 = ra.predict([inp1])"
      ]
    },
    {
      "cell_type": "code",
      "execution_count": null,
      "metadata": {
        "id": "m-4P5FbH_OUn",
        "outputId": "ab199c21-b06f-4dd9-977c-eae887a6c34f"
      },
      "outputs": [
        {
          "data": {
            "text/plain": [
              "array([1], dtype=int64)"
            ]
          },
          "execution_count": 56,
          "metadata": {},
          "output_type": "execute_result"
        }
      ],
      "source": [
        "result1"
      ]
    },
    {
      "cell_type": "code",
      "execution_count": null,
      "metadata": {
        "id": "CSM6Lzyi_OUn",
        "outputId": "f90bf720-a331-4dbe-b9fb-2315f932606b"
      },
      "outputs": [
        {
          "name": "stdout",
          "output_type": "stream",
          "text": [
            "anemic\n"
          ]
        }
      ],
      "source": [
        "if result1 == 0:\n",
        "    print('non-anemic')\n",
        "else:\n",
        "    print('anemic')"
      ]
    },
    {
      "cell_type": "markdown",
      "metadata": {
        "id": "PVpj6nCJ_OUo"
      },
      "source": [
        "# **----------------------------END------------------------------------**"
      ]
    }
  ],
  "metadata": {
    "kernelspec": {
      "display_name": "Python 3",
      "language": "python",
      "name": "python3"
    },
    "language_info": {
      "codemirror_mode": {
        "name": "ipython",
        "version": 3
      },
      "file_extension": ".py",
      "mimetype": "text/x-python",
      "name": "python",
      "nbconvert_exporter": "python",
      "pygments_lexer": "ipython3",
      "version": "3.10.9"
    },
    "colab": {
      "provenance": []
    }
  },
  "nbformat": 4,
  "nbformat_minor": 0
}
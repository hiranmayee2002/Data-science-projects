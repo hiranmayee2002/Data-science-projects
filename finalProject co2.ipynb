{
 "cells": [
  {
   "cell_type": "markdown",
   "id": "9a4beff2-c131-41d1-87dd-85ae75938f6e",
   "metadata": {},
   "source": [
    "## Project:\n",
    "\n",
    "Business Objective:\n",
    "\n",
    "The fundamental goal here is to model the CO2 emissions as a function of several car engine features.\n",
    "\n",
    "Data Set Details: \n",
    "\n",
    "The file contains the data for this example. Here the number of variables (columns) is 12, and the number of instances (rows) is 7385. In that way, this problem has the 12 \n",
    "\n",
    "following variables:\n",
    "\n",
    "make, car brand under study.\n",
    "model, the specific model of the car.\n",
    "vehicle_class, car body type of the car.\n",
    "engine_size, size of the car engine, in Liters.\n",
    "cylinders, number of cylinders.\n",
    "transmission, \"A\" for`Automatic', \"AM\" for ``Automated manual', \"AS\" for 'Automatic with select shift', \"AV\" for 'Continuously variable', \"M\" for 'Manual'.\n",
    "fuel_type, \"X\" for 'Regular gasoline', \"Z\" for 'Premium gasoline', \"D\" for 'Diesel', \"E\" for 'Ethanol (E85)', \"N\" for 'Natural gas'.\n",
    "fuel_consumption_city, City fuel consumption ratings, in liters per 100 kilometers.\n",
    "fuel_consumption_hwy, Highway fuel consumption ratings, in liters per 100 kilometers.\n",
    "fuel_consumption_comb(l/100km), the combined fuel consumption rating (55% city, 45% highway), in L/100 km.\n",
    "fuel_consumption_comb(mpg), the combined fuel consumption rating (55% city, 45% highway), in miles per gallon (mpg).\n",
    "co2_emissions, the tailpipe emissions of carbon dioxide for combined city and highway driving, in grams per kilometer.\n",
    "\n",
    "Acceptance Criterion: Need to deploy the end results using Flask /Streamlit etc"
   ]
  },
  {
   "cell_type": "code",
   "execution_count": 4,
   "id": "015217b2-d1e6-4dfc-9bc8-5b2e9a0eaf74",
   "metadata": {},
   "outputs": [
    {
     "ename": "ModuleNotFoundError",
     "evalue": "No module named 'seaborn'",
     "output_type": "error",
     "traceback": [
      "\u001b[1;31m---------------------------------------------------------------------------\u001b[0m",
      "\u001b[1;31mModuleNotFoundError\u001b[0m                       Traceback (most recent call last)",
      "Cell \u001b[1;32mIn[4], line 5\u001b[0m\n\u001b[0;32m      3\u001b[0m \u001b[38;5;28;01mimport\u001b[39;00m \u001b[38;5;21;01mnumpy\u001b[39;00m \u001b[38;5;28;01mas\u001b[39;00m \u001b[38;5;21;01mnp\u001b[39;00m\n\u001b[0;32m      4\u001b[0m \u001b[38;5;28;01mimport\u001b[39;00m \u001b[38;5;21;01mmatplotlib\u001b[39;00m\u001b[38;5;21;01m.\u001b[39;00m\u001b[38;5;21;01mpyplot\u001b[39;00m \u001b[38;5;28;01mas\u001b[39;00m \u001b[38;5;21;01mplt\u001b[39;00m\n\u001b[1;32m----> 5\u001b[0m \u001b[38;5;28;01mimport\u001b[39;00m \u001b[38;5;21;01mseaborn\u001b[39;00m \u001b[38;5;28;01mas\u001b[39;00m \u001b[38;5;21;01msns\u001b[39;00m\n\u001b[0;32m      6\u001b[0m \u001b[38;5;28;01mimport\u001b[39;00m \u001b[38;5;21;01mscipy\u001b[39;00m\u001b[38;5;21;01m.\u001b[39;00m\u001b[38;5;21;01mstats\u001b[39;00m \u001b[38;5;28;01mas\u001b[39;00m \u001b[38;5;21;01mstats\u001b[39;00m\n\u001b[0;32m      7\u001b[0m \u001b[38;5;28;01mfrom\u001b[39;00m \u001b[38;5;21;01mscipy\u001b[39;00m\u001b[38;5;21;01m.\u001b[39;00m\u001b[38;5;21;01mstats\u001b[39;00m \u001b[38;5;28;01mimport\u001b[39;00m chi2_contingency\n",
      "\u001b[1;31mModuleNotFoundError\u001b[0m: No module named 'seaborn'"
     ]
    }
   ],
   "source": [
    "#import libraries\n",
    "import pandas as pd\n",
    "import numpy as np\n",
    "import matplotlib.pyplot as plt\n",
    "import seaborn as sns\n",
    "import scipy.stats as stats\n",
    "from scipy.stats import chi2_contingency\n",
    "from statsmodels.stats.outliers_influence import variance_inflation_factor\n",
    "from sklearn.preprocessing import StandardScaler,MinMaxScaler,LabelEncoder ,PolynomialFeatures\n",
    "from sklearn.pipeline import make_pipeline\n",
    "from sklearn.model_selection import train_test_split,GridSearchCV ,RandomizedSearchCV ,cross_val_score ,KFold\n",
    "from sklearn.linear_model import LinearRegression ,Lasso ,Ridge , ElasticNet \n",
    "from sklearn.ensemble import RandomForestRegressor\n",
    "from sklearn.svm import SVR \n",
    "from sklearn.neighbors import KNeighborsRegressor \n",
    "from sklearn.metrics import mean_squared_error, r2_score,mean_absolute_error,r2_score\n",
    "import warnings\n",
    "warnings.filterwarnings(\"ignore\")\n",
    "import statsmodels.api as sm\n",
    "import matplotlib.pyplot as plt\n"
   ]
  },
  {
   "cell_type": "markdown",
   "id": "fc4c9e92-d3ea-401f-b104-4fdd1eb25979",
   "metadata": {},
   "source": [
    "# **EDA (Exploratory Data Analysis)**\n",
    "\n",
    "**Understand the dataset by summarizing, visualizing, and identifying patterns, correlations, and anomalies.**"
   ]
  },
  {
   "cell_type": "markdown",
   "id": "349c3bb8-5aa4-4fce-a29c-8a8e6a7458f4",
   "metadata": {},
   "source": [
    "## 1. Load Data"
   ]
  },
  {
   "cell_type": "code",
   "execution_count": null,
   "id": "84653818-cd72-40a5-9e7b-aaea1e4317ce",
   "metadata": {},
   "outputs": [],
   "source": [
    "#read the dataset\n",
    "data = pd.read_csv('co2_emissions (1).csv')"
   ]
  },
  {
   "cell_type": "code",
   "execution_count": null,
   "id": "2f705a15-6234-45a0-922d-1c0dabe02f58",
   "metadata": {},
   "outputs": [],
   "source": [
    "## Basic Information & Summary"
   ]
  },
  {
   "cell_type": "code",
   "execution_count": null,
   "id": "4b3f8357-e36f-49bc-bcfd-3599bd96c436",
   "metadata": {},
   "outputs": [],
   "source": [
    "#Display first 5 records\n",
    "data.head()"
   ]
  },
  {
   "cell_type": "code",
   "execution_count": null,
   "id": "3a9ee620-bffc-4b79-ad6f-7ee637a71e4e",
   "metadata": {},
   "outputs": [],
   "source": [
    "#dispaly random 5 sample\n",
    "data.sample(5)"
   ]
  },
  {
   "cell_type": "markdown",
   "id": "8d8fda78-a5ce-41fb-8ffc-c83288dce2ec",
   "metadata": {},
   "source": [
    "##  2. Understand the Data"
   ]
  },
  {
   "cell_type": "code",
   "execution_count": null,
   "id": "8e9cf564-4175-4ebc-81dc-2f822ee658d9",
   "metadata": {},
   "outputs": [],
   "source": [
    "#size of rows and columns\n",
    "data.shape"
   ]
  },
  {
   "cell_type": "code",
   "execution_count": null,
   "id": "6831d687-0fc5-431d-a133-97dd5f849d96",
   "metadata": {},
   "outputs": [
    {
     "ename": "NameError",
     "evalue": "name 'data' is not defined",
     "output_type": "error",
     "traceback": [
      "\u001b[1;31m---------------------------------------------------------------------------\u001b[0m",
      "\u001b[1;31mNameError\u001b[0m                                 Traceback (most recent call last)",
      "Cell \u001b[1;32mIn[2], line 2\u001b[0m\n\u001b[0;32m      1\u001b[0m \u001b[38;5;66;03m# Get information about columns types and missing values\u001b[39;00m\n\u001b[1;32m----> 2\u001b[0m \u001b[43mdata\u001b[49m\u001b[38;5;241m.\u001b[39minfo()\n",
      "\u001b[1;31mNameError\u001b[0m: name 'data' is not defined"
     ]
    }
   ],
   "source": [
    "# Get information about columns types and missing values\n",
    "data.info()"
   ]
  },
  {
   "cell_type": "code",
   "execution_count": null,
   "id": "772498d5-82fe-44b5-9e16-2a5e610126ab",
   "metadata": {},
   "outputs": [],
   "source": [
    "# Get basic statistical details of numerical columns\n",
    "data.describe().T"
   ]
  },
  {
   "cell_type": "code",
   "execution_count": null,
   "id": "78818339-6f1f-4a2a-a051-1684ca50e719",
   "metadata": {},
   "outputs": [],
   "source": [
    "# Basic statistics summary of Object features\n",
    "data.describe(include= 'object').T"
   ]
  },
  {
   "cell_type": "code",
   "execution_count": null,
   "id": "20af94a0-2864-4fe0-9e92-adeb1de1ab1b",
   "metadata": {},
   "outputs": [],
   "source": [
    "##Get features names\n",
    "data.columns"
   ]
  },
  {
   "cell_type": "code",
   "execution_count": null,
   "id": "1a3c411b-2bac-41e4-9eae-7dd1e04eb854",
   "metadata": {},
   "outputs": [],
   "source": [
    "# checking duplicate values\n",
    "data.duplicated().sum()"
   ]
  },
  {
   "cell_type": "code",
   "execution_count": null,
   "id": "47df7c8a-a879-4701-af64-3669aa572747",
   "metadata": {},
   "outputs": [],
   "source": [
    "#check for missing data\n",
    "data.isnull().sum()"
   ]
  },
  {
   "cell_type": "code",
   "execution_count": null,
   "id": "d8ad22c0-d1ef-47e7-8b4a-55c3a83bf7d9",
   "metadata": {},
   "outputs": [],
   "source": [
    "# percentage of missing values\n",
    "data.isna().sum()/len(data)*100 "
   ]
  },
  {
   "cell_type": "markdown",
   "id": "b7490d0c-b6d0-4102-a2de-d51fb270af28",
   "metadata": {},
   "source": [
    "## 3.Univariate, Bivariate & Multivariate Analysis "
   ]
  },
  {
   "cell_type": "markdown",
   "id": "11346f66-b6ad-4d31-8e5b-9089acad7edc",
   "metadata": {},
   "source": [
    "**Histogram & Barplot**"
   ]
  },
  {
   "cell_type": "code",
   "execution_count": null,
   "id": "0ddccb19-b0fc-493a-887c-011132d1bc9d",
   "metadata": {
    "scrolled": true
   },
   "outputs": [],
   "source": [
    "#Check Distribution of Numerical Data\n",
    "# Select numerical columns\n",
    "num_col = data.select_dtypes(include=['float64', 'int64']).columns\n",
    "\n",
    "# Plot histograms with KDE for each numerical column\n",
    "for col in num_col:\n",
    "    plt.figure(figsize=(6, 4))\n",
    "    sns.histplot(data[col], bins=30, kde=True, color=\"skyblue\")\n",
    "    plt.title(f'Histplot of {col}')\n",
    "    plt.legend()\n",
    "    plt.show()"
   ]
  },
  {
   "cell_type": "markdown",
   "id": "bd0fa762-a246-4048-a601-e6f3a288ea57",
   "metadata": {},
   "source": [
    "**Skewness**"
   ]
  },
  {
   "cell_type": "code",
   "execution_count": null,
   "id": "b053fee6-417b-4e51-9e4b-5434d33c03f5",
   "metadata": {},
   "outputs": [],
   "source": [
    "# Check skewness of numerical features\n",
    "\n",
    "# Select only numerical columns\n",
    "num_col = data.select_dtypes(include=['float64', 'int64']).columns\n",
    "\n",
    "# Calculate skewness\n",
    "skewness_values = data[num_col].skew()\n",
    "\n",
    "# Display skewness values\n",
    "print(\"Skewness of numerical columns:\\n\", skewness_values)"
   ]
  },
  {
   "cell_type": "code",
   "execution_count": null,
   "id": "c475819e-0a9e-4402-add2-731056972f42",
   "metadata": {},
   "outputs": [],
   "source": [
    "#Identify Sknewness\n",
    "# Select numerical columns\n",
    "num_col = data.select_dtypes(include=['float64', 'int64']).columns\n",
    "\n",
    "# Plot histograms with KDE for each numerical column\n",
    "for col in num_col:\n",
    "    plt.figure(figsize=(6, 4))\n",
    "    sns.histplot(data[col], bins=30, kde=True, color=\"skyblue\")\n",
    "    plt.title(f'Distribution & Skewness of {col}')\n",
    "    plt.axvline(data[col].mean(), color='red', linestyle='dashed', linewidth=2, label=\"Mean\")\n",
    "    plt.legend()\n",
    "    plt.show()"
   ]
  },
  {
   "cell_type": "code",
   "execution_count": null,
   "id": "19c0910e-a849-44be-9471-060c15a2f0d4",
   "metadata": {},
   "outputs": [],
   "source": [
    "# Categorical features"
   ]
  },
  {
   "cell_type": "code",
   "execution_count": null,
   "id": "eb7f999c-566c-4cc2-9a2e-9b76a7325dd6",
   "metadata": {},
   "outputs": [],
   "source": [
    "#Brands od cars\n",
    "print(\"We have total\",len(data['make'].unique()),\"Car Companies Data\")\n",
    "df_brand = data['make'].value_counts().reset_index().rename(columns={'count':'Count'})\n",
    "df_brand.head(20)"
   ]
  },
  {
   "cell_type": "code",
   "execution_count": null,
   "id": "70e2eaa1-790f-41b6-9168-1596b3dcbdad",
   "metadata": {},
   "outputs": [],
   "source": [
    "plt.figure(figsize=(20,6))\n",
    "fig1 = sns.barplot(data = df_brand, x = \"make\",  y= \"Count\")\n",
    "plt.xticks(rotation = 75)\n",
    "plt.title(\"All Car Companies and their Cars\")\n",
    "plt.xlabel(\"Companies\")\n",
    "plt.ylabel(\"Cars\")\n",
    "plt.bar_label(fig1.containers[0])\n",
    "plt.show()"
   ]
  },
  {
   "cell_type": "code",
   "execution_count": null,
   "id": "f939034e-406a-4873-ba69-fa83f5869eac",
   "metadata": {},
   "outputs": [],
   "source": [
    "#Models of cars \n",
    "print(\"We have total\",len(data['model'].unique()),\"Car Models\")\n",
    "df_model = data['model'].value_counts().reset_index().rename(columns={'count':'Count'})[:25]\n",
    "df_model.head(20)"
   ]
  },
  {
   "cell_type": "code",
   "execution_count": null,
   "id": "c5bedd2d-9579-4a27-b367-d5a07b47920d",
   "metadata": {},
   "outputs": [],
   "source": [
    "plt.figure(figsize=(20,6))\n",
    "fig2 = sns.barplot(data = df_model, x = \"model\",  y= \"Count\")\n",
    "plt.xticks(rotation = 75)\n",
    "plt.title(\"Top 25 Car Models\")\n",
    "plt.xlabel(\"models\")\n",
    "plt.ylabel(\"Cars\")\n",
    "plt.bar_label(fig2.containers[0])\n",
    "plt.show()"
   ]
  },
  {
   "cell_type": "code",
   "execution_count": null,
   "id": "e20a5e0c-806c-4602-a1e1-64f618583b61",
   "metadata": {},
   "outputs": [],
   "source": [
    "#Vehicle Class\n",
    "print(\"We have total\",len(data['vehicle_class'].unique()),\"vehicle_class\")\n",
    "df_vehicle_class = data['vehicle_class'].value_counts().reset_index().rename(columns={'count':'Count'})\n",
    "df_vehicle_class"
   ]
  },
  {
   "cell_type": "code",
   "execution_count": null,
   "id": "d4861669-5612-4e09-9131-d67d8d631988",
   "metadata": {},
   "outputs": [],
   "source": [
    "plt.figure(figsize=(20,5))\n",
    "fig3 = sns.barplot(data = df_vehicle_class, x = \"vehicle_class\",  y= \"Count\")\n",
    "plt.xticks(rotation = 75)\n",
    "plt.title(\"All Vehicle Class\")\n",
    "plt.xlabel(\"vehicle_class\")\n",
    "plt.ylabel(\"Cars\")\n",
    "plt.bar_label(fig3.containers[0])\n",
    "plt.show()"
   ]
  },
  {
   "cell_type": "code",
   "execution_count": null,
   "id": "1805604c-4715-4b48-a4e2-ef9cb6c16ede",
   "metadata": {},
   "outputs": [],
   "source": [
    "#Engine Sizes of cars\n",
    "print(\"We have total\",len(data['engine_size'].unique()),\"Types of Engine Size\")\n",
    "df_engine_size = data['engine_size'].value_counts().reset_index().rename(columns={'count':'Count'})\n",
    "df_engine_size.head(10)"
   ]
  },
  {
   "cell_type": "code",
   "execution_count": null,
   "id": "63a8ed4b-42e6-45a3-962b-e43124ba0798",
   "metadata": {},
   "outputs": [],
   "source": [
    "plt.figure(figsize=(20,6))\n",
    "fig4 = sns.barplot(data = df_engine_size, x = \"engine_size\",  y= \"Count\")\n",
    "plt.xticks(rotation = 90)\n",
    "plt.title(\"All Engine Sizes\")\n",
    "plt.xlabel(\"engine_size\")\n",
    "plt.ylabel(\"Cars\")\n",
    "plt.bar_label(fig4.containers[0])\n",
    "plt.show()"
   ]
  },
  {
   "cell_type": "code",
   "execution_count": null,
   "id": "6a184c3e-3400-4c70-848d-2dff57a5d1a6",
   "metadata": {},
   "outputs": [],
   "source": [
    "#Cylinders\n",
    "print(\"We have total\",len(data['cylinders'].unique()),\"Types of Cylinders\")\n",
    "df_cylinders = data['cylinders'].value_counts().reset_index().rename(columns={'count':'Count'})\n",
    "df_cylinders.head(10)"
   ]
  },
  {
   "cell_type": "code",
   "execution_count": null,
   "id": "97d1c34b-b575-42be-95da-aee213296c40",
   "metadata": {},
   "outputs": [],
   "source": [
    "plt.figure(figsize=(20,6))\n",
    "fig5 = sns.barplot(data = df_cylinders, x = \"cylinders\",  y= \"Count\")\n",
    "plt.xticks(rotation = 90)\n",
    "plt.title(\"All Cylinders\")\n",
    "plt.xlabel(\"cylinders\")\n",
    "plt.ylabel(\"Cars\")\n",
    "plt.bar_label(fig5.containers[0])\n",
    "plt.show()"
   ]
  },
  {
   "cell_type": "code",
   "execution_count": null,
   "id": "ea8003ea-cff9-4872-ada5-b3ea97d1d9b7",
   "metadata": {},
   "outputs": [],
   "source": [
    "## Transmission of Cars \n",
    "data['transmission'].unique()"
   ]
  },
  {
   "cell_type": "code",
   "execution_count": null,
   "id": "11f4876a-e819-4981-b6c9-39901cb856ea",
   "metadata": {},
   "outputs": [],
   "source": [
    "#Here we have to map similar labels into a single label for our Transmission column.\n",
    "data[\"transmission\"] = np.where(data[\"transmission\"].isin([\"A\"]), \"Automatic\", data[\"transmission\"])\n",
    "data[\"transmission\"] = np.where(data[\"transmission\"].isin([\"AM\"]), \"Automated Manual\", data[\"transmission\"])\n",
    "data[\"transmission\"] = np.where(data[\"transmission\"].isin([\"AS\"]), \"Automatic with Select Shift\", data[\"transmission\"])\n",
    "data[\"transmission\"] = np.where(data[\"transmission\"].isin([\"AV\"]), \"Continuously Variable\", data[\"transmission\"])\n",
    "data[\"transmission\"] = np.where(data[\"transmission\"].isin([\"M\"]), \"Manual\", data[\"transmission\"])"
   ]
  },
  {
   "cell_type": "code",
   "execution_count": null,
   "id": "409f363e-d42e-4a80-8188-e28b28ef2769",
   "metadata": {},
   "outputs": [],
   "source": [
    "print(\"We have total\",len(data['transmission'].unique()),\"transmissions\")\n",
    "df_transmission = data['transmission'].value_counts().reset_index().rename(columns={'count':'Count'})\n",
    "df_transmission"
   ]
  },
  {
   "cell_type": "code",
   "execution_count": null,
   "id": "998a879d-5b1f-4dd8-928c-186c91f3ebd3",
   "metadata": {},
   "outputs": [],
   "source": [
    "plt.figure(figsize=(20,5))\n",
    "fig6 = sns.barplot(data = df_transmission, x = \"transmission\",  y= \"Count\")\n",
    "plt.title(\"All Transmissions\")\n",
    "plt.xlabel(\"transmissions\")\n",
    "plt.ylabel(\"Cars\")\n",
    "plt.bar_label(fig6.containers[0])\n",
    "plt.show()"
   ]
  },
  {
   "cell_type": "code",
   "execution_count": null,
   "id": "2e7aff22-9e7b-402a-8906-6eefe6932b60",
   "metadata": {},
   "outputs": [],
   "source": [
    "#Fuel Type of Cars\n",
    "data['fuel_type'].unique()"
   ]
  },
  {
   "cell_type": "code",
   "execution_count": null,
   "id": "1042bed1-d1aa-48c5-8454-e1cf24be9cbf",
   "metadata": {},
   "outputs": [],
   "source": [
    "#Here we have to map similar labels into a single label for our Fuel Type column\n",
    "data[\"fuel_type\"] = np.where(data[\"fuel_type\"]==\"Z\", \"Premium Gasoline\", data[\"fuel_type\"])\n",
    "data[\"fuel_type\"] = np.where(data[\"fuel_type\"]==\"X\", \"Regular Gasoline\", data[\"fuel_type\"])\n",
    "data[\"fuel_type\"] = np.where(data[\"fuel_type\"]==\"D\", \"Diesel\", data[\"fuel_type\"])\n",
    "data[\"fuel_type\"] = np.where(data[\"fuel_type\"]==\"E\", \"Ethanol(E85)\", data[\"fuel_type\"])\n",
    "data[\"fuel_type\"] = np.where(data[\"fuel_type\"]==\"N\", \"Natural Gas\", data[\"fuel_type\"])"
   ]
  },
  {
   "cell_type": "code",
   "execution_count": null,
   "id": "a8e0db53-ae71-4ab3-a660-8eac6491008e",
   "metadata": {},
   "outputs": [],
   "source": [
    "print(\"We have total\",len(data['fuel_type'].unique()),\"fuel_type\")\n",
    "df_fuel_type = data['fuel_type'].value_counts().reset_index().rename(columns={'count':'Count'})\n",
    "df_fuel_type"
   ]
  },
  {
   "cell_type": "code",
   "execution_count": null,
   "id": "616680a5-52bd-41fd-992b-ff222e1f1f41",
   "metadata": {},
   "outputs": [],
   "source": [
    "plt.figure(figsize=(20,5))\n",
    "fig7 = sns.barplot(data = df_fuel_type, x = \"fuel_type\",  y= \"Count\")\n",
    "plt.title(\"All Fuel Types\")\n",
    "plt.xlabel(\"fuel_type\")\n",
    "plt.ylabel(\"Cars\")\n",
    "plt.bar_label(fig7.containers[0])\n",
    "plt.show()"
   ]
  },
  {
   "cell_type": "markdown",
   "id": "eadce5dd-7feb-48ef-b1cb-d5fa867bb734",
   "metadata": {},
   "source": [
    "### Variation in CO2 emissions with different features"
   ]
  },
  {
   "cell_type": "markdown",
   "id": "c75c4107-4da6-4edd-baf9-678150a48946",
   "metadata": {},
   "source": [
    "### Co2 Emission with Brand"
   ]
  },
  {
   "cell_type": "code",
   "execution_count": null,
   "id": "2e73a7e3-bce5-4a1a-9aed-fcb9c5eba11e",
   "metadata": {},
   "outputs": [],
   "source": [
    "df_co2_make = data.groupby(['make'])['co2_emissions'].mean().sort_values().reset_index()"
   ]
  },
  {
   "cell_type": "code",
   "execution_count": null,
   "id": "30d47a74-776c-4868-87ca-6920fc6e2c5d",
   "metadata": {},
   "outputs": [],
   "source": [
    "plt.figure(figsize=(20,5))\n",
    "fig8 = sns.barplot(data = df_co2_make, x = \"make\",  y= \"co2_emissions\")\n",
    "plt.xticks(rotation = 90)\n",
    "plt.title(\"CO2 Emissions variation with Brand\")\n",
    "plt.xlabel(\"Brands\")\n",
    "plt.ylabel(\"co2_emissions\")\n",
    "plt.bar_label(fig8.containers[0], fontsize=8, fmt='%.1f')\n",
    "plt.show()"
   ]
  },
  {
   "cell_type": "code",
   "execution_count": null,
   "id": "8c0ae16e-0a66-4cc0-9b6d-58f9d0fe858d",
   "metadata": {},
   "outputs": [],
   "source": [
    "plt.figure(figsize=(20,7))\n",
    "order = data.groupby(\"make\")[\"co2_emissions\"].median().sort_values(ascending=True).index\n",
    "sns.boxplot(x=\"make\", y=\"co2_emissions\", data=data, order=order, width=0.5)\n",
    "plt.title(\"Distribution of CO2 Emissions in relation to Make\", fontsize=15)\n",
    "plt.xticks(rotation=90, horizontalalignment='center')\n",
    "plt.xlabel(\"make\", fontsize=12)\n",
    "plt.ylabel(\"co2_emissions\", fontsize=12)\n",
    "plt.axhline(data[\"co2_emissions\"].median(),color='r',linestyle='dashed',linewidth=1)\n",
    "plt.tight_layout()\n",
    "plt.show()"
   ]
  },
  {
   "cell_type": "markdown",
   "id": "afad0ce5-b497-41ca-96e3-009205b3e0a8",
   "metadata": {},
   "source": [
    "### CO2 Emissions variation with Vehicle Class"
   ]
  },
  {
   "cell_type": "code",
   "execution_count": null,
   "id": "5f6f3c29-7139-4cc0-b9a9-ec07d6eeb2ef",
   "metadata": {},
   "outputs": [],
   "source": [
    " \n",
    "df_co2_vehicle_class = data.groupby(['vehicle_class'])['co2_emissions'].mean().sort_values().reset_index()"
   ]
  },
  {
   "cell_type": "code",
   "execution_count": null,
   "id": "04892463-a060-44c1-b09b-557e70318d32",
   "metadata": {},
   "outputs": [],
   "source": [
    "plt.figure(figsize=(23,5))\n",
    "fig9 = sns.barplot(data = df_co2_vehicle_class, x = \"vehicle_class\",  y= \"co2_emissions\")\n",
    "plt.xticks(rotation = 90)\n",
    "plt.title(\"CO2 Emissions variation with Vehicle Class\")\n",
    "plt.xlabel(\"vehicle_class\")\n",
    "plt.ylabel(\"co2_emissions)\")\n",
    "plt.bar_label(fig9.containers[0], fontsize=9)\n",
    "plt.show()"
   ]
  },
  {
   "cell_type": "code",
   "execution_count": null,
   "id": "4f5b05c4-94b0-4c40-8949-cc1b17710dae",
   "metadata": {},
   "outputs": [],
   "source": [
    "plt.figure(figsize=(20,7))\n",
    "order = data.groupby(\"vehicle_class\")[\"co2_emissions\"].median().sort_values(ascending=True).index\n",
    "sns.boxplot(x=\"vehicle_class\", y=\"co2_emissions\", data=data, order=order, width=0.5)\n",
    "plt.title(\"Distribution of CO2 Emissions in relation to Make\", fontsize=15)\n",
    "plt.xticks(rotation=90, horizontalalignment='center')\n",
    "plt.xlabel(\"vehicle_class\", fontsize=12)\n",
    "plt.ylabel(\"co2_emissions\", fontsize=12)\n",
    "plt.axhline(data[\"co2_emissions\"].median(),color='r',linestyle='dashed',linewidth=1)\n",
    "plt.tight_layout()\n",
    "plt.show()"
   ]
  },
  {
   "cell_type": "markdown",
   "id": "9f6791ed-d713-4683-9216-7edeffdfa56c",
   "metadata": {},
   "source": [
    "### CO2 Emissions variation with Transmission"
   ]
  },
  {
   "cell_type": "code",
   "execution_count": null,
   "id": "e909356d-6727-49d1-8acf-fff5b111adfe",
   "metadata": {},
   "outputs": [],
   "source": [
    "\n",
    "df_co2_transmission = data.groupby(['transmission'])['co2_emissions'].mean().sort_values().reset_index()"
   ]
  },
  {
   "cell_type": "code",
   "execution_count": null,
   "id": "a37917e3-628f-45b9-a366-e531798b2683",
   "metadata": {},
   "outputs": [],
   "source": [
    "fig10 = sns.barplot(data = df_co2_transmission, x = \"transmission\",  y= \"co2_emissions\")\n",
    "plt.xticks(rotation = 90)\n",
    "plt.title(\"CO2 Emissions variation with Transmission\")\n",
    "plt.xlabel(\"transmission\")\n",
    "plt.ylabel(\"co2_emissions\")\n",
    "plt.bar_label(fig10.containers[0], fontsize=10)\n",
    "plt.show()    "
   ]
  },
  {
   "cell_type": "code",
   "execution_count": null,
   "id": "f8d5c7d4-1919-4f07-b537-d83812ee7b54",
   "metadata": {},
   "outputs": [],
   "source": [
    "plt.figure(figsize=(20,7))\n",
    "order = data.groupby(\"transmission\")[\"co2_emissions\"].median().sort_values(ascending=True).index\n",
    "sns.boxplot(x=\"transmission\", y=\"co2_emissions\", data=data, order=order, width=0.5)\n",
    "plt.title(\"Distribution of CO2 Emissions in relation to Make\", fontsize=15)\n",
    "plt.xticks(rotation=90, horizontalalignment='center')\n",
    "plt.xlabel(\"transmission\", fontsize=12)\n",
    "plt.ylabel(\"co2_emissions\", fontsize=12)\n",
    "plt.axhline(data[\"co2_emissions\"].median(),color='r',linestyle='dashed',linewidth=1)\n",
    "plt.tight_layout()\n",
    "plt.show()"
   ]
  },
  {
   "cell_type": "markdown",
   "id": "6d3b94c5-cf8c-40c0-a912-f54183e6e926",
   "metadata": {},
   "source": [
    "### CO2 Emissions variation with Fuel Type"
   ]
  },
  {
   "cell_type": "code",
   "execution_count": null,
   "id": "0b0d13f6-315d-4d25-a253-280bd699cf68",
   "metadata": {},
   "outputs": [],
   "source": [
    "df_co2_fuel_type = data.groupby(['fuel_type'])['co2_emissions'].mean().sort_values().reset_index()"
   ]
  },
  {
   "cell_type": "code",
   "execution_count": null,
   "id": "b145f537-cf0b-4fa7-a16a-afadd8e8e402",
   "metadata": {},
   "outputs": [],
   "source": [
    "plt.figure(figsize=(23,5))\n",
    "fig11 = sns.barplot(data = df_co2_fuel_type, x = \"fuel_type\",  y= \"co2_emissions\")\n",
    "plt.xticks(rotation = 90)\n",
    "plt.title(\"CO2 Emissions variation with Fuel Type\")\n",
    "plt.xlabel(\"fuel_type\")\n",
    "plt.ylabel(\"co2_emissions\")\n",
    "plt.bar_label(fig11.containers[0], fontsize=10)\n",
    "plt.show()"
   ]
  },
  {
   "cell_type": "code",
   "execution_count": null,
   "id": "1ea070a0-27d9-445e-89db-a983b49cbb4c",
   "metadata": {},
   "outputs": [],
   "source": [
    "plt.figure(figsize=(20,7))\n",
    "order = data.groupby(\"fuel_type\")[\"co2_emissions\"].median().sort_values(ascending=True).index\n",
    "sns.boxplot(x=\"fuel_type\", y=\"co2_emissions\", data=data, order=order, width=0.5)\n",
    "plt.title(\"Distribution of CO2 Emissions in relation to Make\", fontsize=15)\n",
    "plt.xticks(rotation=90, horizontalalignment='center')\n",
    "plt.xlabel(\"fuel_type\", fontsize=12)\n",
    "plt.ylabel(\"co2_emissions\", fontsize=12)\n",
    "plt.axhline(data[\"co2_emissions\"].median(),color='r',linestyle='dashed',linewidth=1)\n",
    "plt.tight_layout()\n",
    "plt.show()"
   ]
  },
  {
   "cell_type": "markdown",
   "id": "e8a8f9d3-a6f7-4bfe-bc33-8bb634f3888a",
   "metadata": {},
   "source": [
    "### Correlation between numerical features"
   ]
  },
  {
   "cell_type": "code",
   "execution_count": null,
   "id": "250bf832-ff66-4167-94e5-3856f15abe13",
   "metadata": {},
   "outputs": [],
   "source": [
    "#Heatmap of Correlations\n",
    "num_cols = data.select_dtypes(include=['float64', 'int64']).columns\n",
    "correlation_matrix = data[num_cols].corr(numeric_only=True)\n",
    "\n",
    "plt.figure(figsize=(8,6))\n",
    "sns.heatmap(correlation_matrix, annot=True, cmap='coolwarm', linewidths=0.5)\n",
    "plt.title('Correlation Matrix Heatmap')\n",
    "plt.show()"
   ]
  },
  {
   "cell_type": "markdown",
   "id": "491d654e-117e-4d89-9c26-286d61a31e22",
   "metadata": {},
   "source": [
    "### **Scatter Plot (Numerical vs. Numerical)**"
   ]
  },
  {
   "cell_type": "code",
   "execution_count": null,
   "id": "02ede141-2300-4606-b599-4937769aa215",
   "metadata": {},
   "outputs": [],
   "source": [
    "#colors = [\"blue\" if x < 250 else \"red\" for x in data[\"co2_emissions\"]]\n",
    "\n",
    "plt.figure(figsize=(8, 5))\n",
    "sns.scatterplot(x=data[\"engine_size\"], y=data[\"co2_emissions\"],hue=data['fuel_type'], palette='Set1',alpha=0.7,edgecolor='w')\n",
    "\n",
    "plt.xlabel(\"Engine size\")\n",
    "plt.ylabel(\"CO₂ Emissions\")\n",
    "plt.title(\"Engine Size vs CO₂ Emissions by Fuel type\")\n",
    "plt.show()"
   ]
  },
  {
   "cell_type": "code",
   "execution_count": null,
   "id": "d0b129d7-98ae-4c69-ac0c-5f66e8fb024c",
   "metadata": {},
   "outputs": [],
   "source": [
    "plt.figure(figsize=(8, 5))\n",
    "sns.scatterplot(x=data[\"fuel_consumption_hwy\"], y=data[\"co2_emissions\"], hue=data['fuel_type'], palette='Set1', alpha=0.7)\n",
    "\n",
    "plt.xlabel(\"Fuel Consumption (Highway)\")\n",
    "plt.ylabel(\"CO₂ Emissions\")\n",
    "plt.title(\"Fuel Consumption (Highway) vs CO₂ Emissions by Fuel type\")\n",
    "plt.show()"
   ]
  },
  {
   "cell_type": "code",
   "execution_count": null,
   "id": "ba11e960-aa9d-46a2-87da-bf3d35456c7d",
   "metadata": {},
   "outputs": [],
   "source": [
    "plt.figure(figsize=(9, 5))\n",
    "sns.scatterplot(x=data[\"fuel_consumption_city\"], y=data[\"co2_emissions\"],hue=data['vehicle_class'], palette='Set1', alpha=0.7,edgecolor='w')\n",
    "\n",
    "plt.xlabel(\"Fuel Consumption (city)\")\n",
    "plt.ylabel(\"CO₂ Emissions\")\n",
    "plt.title(\"Fuel Consumption (city) vs CO₂ Emissions By Vehicle class\")\n",
    "plt.show()"
   ]
  },
  {
   "cell_type": "code",
   "execution_count": null,
   "id": "f6fc91e1-f110-4218-bf81-934025b85fc1",
   "metadata": {},
   "outputs": [],
   "source": [
    "plt.figure(figsize=(10, 5))\n",
    "\n",
    "sns.scatterplot( x=data[\"fuel_consumption_comb(l/100km)\"],y=data[\"co2_emissions\"],hue=data[\"vehicle_class\"],  palette=\"Set1\",alpha=0.7,edgecolor=\"w\")\n",
    "\n",
    "plt.xlabel(\"Fuel Consumption comb (L/100km)\")\n",
    "plt.ylabel(\"CO₂ Emissions\")\n",
    "plt.title(\"Fuel Consumption vs CO₂ Emissions by Vehicle Class\")\n",
    "\n",
    "plt.show()\n"
   ]
  },
  {
   "cell_type": "code",
   "execution_count": null,
   "id": "f2eb33d3-8a8c-412a-b7e9-b09246a83d69",
   "metadata": {},
   "outputs": [],
   "source": [
    "plt.figure(figsize=(8, 5))\n",
    "sns.scatterplot(x=data[\"fuel_consumption_comb(mpg)\"], y=data[\"co2_emissions\"], hue=data[\"fuel_type\"], palette = 'Set1', alpha=0.7,edgecolor='w')\n",
    "\n",
    "plt.xlabel(\"Fuel Consumption comb(mpg)\")\n",
    "plt.ylabel(\"CO₂ Emissions\")\n",
    "plt.title(\"Fuel Consumption comb(mpg) vs CO₂ Emissions by fuel_type\")\n",
    "plt.show()"
   ]
  },
  {
   "cell_type": "code",
   "execution_count": null,
   "id": "5b9dd570-109a-44c8-9212-83f584077a22",
   "metadata": {},
   "outputs": [],
   "source": [
    "# Create pairplot with hue\n",
    "sns.pairplot(data, hue=\"fuel_type\", palette=\"coolwarm\")\n",
    "\n",
    "plt.show()"
   ]
  },
  {
   "cell_type": "code",
   "execution_count": null,
   "id": "f085c2a5-edbe-48fb-ae82-09858ba914a0",
   "metadata": {},
   "outputs": [],
   "source": [
    "sns.pairplot(data, vars=[\"engine_size\", \"fuel_consumption_hwy\", \"co2_emissions\"], hue=\"vehicle_class\", palette=\"coolwarm\")\n",
    "plt.show()"
   ]
  },
  {
   "cell_type": "code",
   "execution_count": null,
   "id": "6bc801cf-a178-498c-8c7a-9678388d2de4",
   "metadata": {},
   "outputs": [],
   "source": [
    "sns.pairplot(data, hue=\"engine_size\", palette=\"coolwarm\", diag_kind=\"kde\")\n",
    "\n",
    "plt.show()\n"
   ]
  },
  {
   "cell_type": "markdown",
   "id": "f14c2de4-ed81-47db-9f50-585301b4a73c",
   "metadata": {},
   "source": [
    "## 4. Identify Outliers"
   ]
  },
  {
   "cell_type": "code",
   "execution_count": null,
   "id": "e8dd8e6f-94d0-4954-918f-60a8faa7c6f7",
   "metadata": {},
   "outputs": [],
   "source": [
    "#check for Outliers\n",
    "\n",
    "# List of numerical columns\n",
    "num_col = data.select_dtypes(include=['float64', 'int64']).columns\n",
    "\n",
    "# Plot boxplots for all numerical features\n",
    "plt.figure(figsize=(12, 6))\n",
    "for col in num_col:\n",
    "    plt.figure(figsize=(6, 4))\n",
    "    sns.boxplot(x=data[col])\n",
    "    plt.title(f'Boxplot of {col}')\n",
    "    plt.show()"
   ]
  },
  {
   "cell_type": "markdown",
   "id": "9c66d0fb-4457-4dbc-8b23-59a58de19de7",
   "metadata": {},
   "source": [
    "### ANOVA Test for Categorical Features"
   ]
  },
  {
   "cell_type": "code",
   "execution_count": null,
   "id": "cc07d398-95c4-4d36-afa2-c4ae14496b7d",
   "metadata": {},
   "outputs": [],
   "source": [
    "# Perform ANOVA test for each categorical feature\n",
    "anova_results = {}\n",
    "categorical_features = data.select_dtypes(include=['object']).columns\n",
    "\n",
    "for feature in categorical_features:\n",
    "    groups = [data[\"co2_emissions\"][data[feature] == category].values for category in data[feature].unique()]\n",
    "    anova_results[feature] = stats.f_oneway(*groups)\n",
    "\n",
    "# Display the ANOVA results\n",
    "for feature, result in anova_results.items():\n",
    "    print(f\"ANOVA result for {feature}:\")\n",
    "    print(f\"F-statistic: {result.statistic}, p-value: {result.pvalue}\")\n",
    "    print()"
   ]
  },
  {
   "cell_type": "code",
   "execution_count": null,
   "id": "1c030e4e-694f-43b6-baa8-78a042e61c1c",
   "metadata": {},
   "outputs": [],
   "source": [
    "##  Encode Categorical Variables"
   ]
  },
  {
   "cell_type": "code",
   "execution_count": null,
   "id": "7a407a78-b0ce-4ba3-b00b-88dac23a3449",
   "metadata": {},
   "outputs": [],
   "source": [
    "# List of categorical columns\n",
    "categorical_columns = ['make','model','vehicle_class', 'transmission', 'fuel_type']\n",
    "\n",
    "# Apply Label Encoding to each categorical column\n",
    "label_encoders = {}\n",
    "for col in categorical_columns:\n",
    "    le = LabelEncoder()\n",
    "    data[col] = le.fit_transform(data[col])\n",
    "    label_encoders[col] = le\n",
    "\n",
    "# Display the first few rows of the labeled dataframe\n",
    "print(data.head())"
   ]
  },
  {
   "cell_type": "code",
   "execution_count": null,
   "id": "6e9af8cb-fa70-4406-9169-aadf5ad4fe5c",
   "metadata": {},
   "outputs": [],
   "source": [
    "df_labeled=data.copy()"
   ]
  },
  {
   "cell_type": "code",
   "execution_count": null,
   "id": "546b1611-391b-405c-85df-52781953e5ff",
   "metadata": {},
   "outputs": [],
   "source": [
    "correlation_matrix = df_labeled.corr()\n",
    "\n",
    "plt.figure(figsize=(10,8))\n",
    "sns.heatmap(correlation_matrix, annot=True, cmap='coolwarm', linewidths=0.5)\n",
    "plt.title('Correlation Matrix Heatmap')\n",
    "plt.show()"
   ]
  },
  {
   "cell_type": "markdown",
   "id": "b27c9db6-481b-41bc-bfb3-28f92d50a9db",
   "metadata": {},
   "source": [
    "# **DATA PREPROCESSING**"
   ]
  },
  {
   "cell_type": "markdown",
   "id": "9090e4c9-2044-4bea-a1ce-0d55a60bd8d5",
   "metadata": {},
   "source": [
    "### **Clean and transform data for machine learning models**"
   ]
  },
  {
   "cell_type": "markdown",
   "id": "1ecae9a4-a316-46a3-a63e-25096c84e49c",
   "metadata": {},
   "source": [
    "## 1. Handle Duplicate Data"
   ]
  },
  {
   "cell_type": "code",
   "execution_count": null,
   "id": "74380713-3888-441d-90e1-9aadea47fc98",
   "metadata": {},
   "outputs": [],
   "source": [
    "#remove duplicate rows \n",
    "#data.drop_duplicates(inplace=True)"
   ]
  },
  {
   "cell_type": "code",
   "execution_count": null,
   "id": "8c05fdd0-9be1-4517-a600-f1adfdb46631",
   "metadata": {},
   "outputs": [],
   "source": [
    "data.shape"
   ]
  },
  {
   "cell_type": "code",
   "execution_count": null,
   "id": "1ee3b4af-693b-4f7b-8339-c34208991457",
   "metadata": {},
   "outputs": [],
   "source": [
    "data.describe().T"
   ]
  },
  {
   "cell_type": "markdown",
   "id": "e930be4e-47ba-44ab-899e-0680d19c024e",
   "metadata": {},
   "source": [
    "## 3. Handling Outliers"
   ]
  },
  {
   "cell_type": "code",
   "execution_count": null,
   "id": "b7d4b2f4-6a40-4178-beec-8c39fd21ccf5",
   "metadata": {},
   "outputs": [],
   "source": [
    "num_col = ['engine_size', 'cylinders', 'fuel_consumption_city', \n",
    "                      'fuel_consumption_hwy', 'fuel_consumption_comb(l/100km)', \n",
    "                      'fuel_consumption_comb(mpg)', 'co2_emissions']\n",
    "\n",
    "\n",
    "# Function to detect outliers using IQR\n",
    "def detect_outliers_iqr(data, column):\n",
    "    Q1 = data[column].quantile(0.25)\n",
    "    Q3 = data[column].quantile(0.75)\n",
    "    IQR = Q3 - Q1\n",
    "    lower_bound = Q1 - 1.5 * IQR\n",
    "    upper_bound = Q3 + 1.5 * IQR\n",
    "    outliers = data[(data[column] < lower_bound) | (data[column] > upper_bound)]\n",
    "    return outliers\n",
    "\n",
    "# Apply the function to all numerical columns\n",
    "for col in num_col:\n",
    "    outliers = detect_outliers_iqr(data, col)\n",
    "    print(f\"{col} has {len(outliers)} outliers\")\n"
   ]
  },
  {
   "cell_type": "code",
   "execution_count": null,
   "id": "9bcab42e-495c-4f9f-8f69-dd59de2f86be",
   "metadata": {},
   "outputs": [],
   "source": [
    "def cap_outliers(data, column):\n",
    "    Q1 = data[column].quantile(0.25)\n",
    "    Q3 = data[column].quantile(0.75)\n",
    "    IQR = Q3 - Q1\n",
    "    lower_bound = Q1 - 1.5 * IQR\n",
    "    upper_bound = Q3 + 1.5 * IQR\n",
    "    data[column] = np.where(data[column] < lower_bound, lower_bound, data[column])\n",
    "    data[column] = np.where(data[column] > upper_bound, upper_bound, data[column])\n",
    "\n",
    "# Apply capping to numerical columns\n",
    "for col in num_col:\n",
    "    cap_outliers(data, col)\n",
    "df=data.copy()"
   ]
  },
  {
   "cell_type": "code",
   "execution_count": null,
   "id": "72051808-596e-4c16-aaf6-667fc17a572b",
   "metadata": {},
   "outputs": [],
   "source": [
    "df.describe().T"
   ]
  },
  {
   "cell_type": "markdown",
   "id": "561aac65-3c38-4e9e-985e-72dde834f34e",
   "metadata": {},
   "source": [
    "###  Check skewness of numerical features"
   ]
  },
  {
   "cell_type": "code",
   "execution_count": null,
   "id": "73c5fcb4-d9d1-428f-9d39-0feafcb91bba",
   "metadata": {},
   "outputs": [],
   "source": [
    "\n",
    "# Select only numerical columns\n",
    "\n",
    "print(f'After removing Outliers')\n",
    "num_col = ['engine_size', 'cylinders', 'fuel_consumption_city', \n",
    "                      'fuel_consumption_hwy', 'fuel_consumption_comb(l/100km)', \n",
    "                      'fuel_consumption_comb(mpg)', 'co2_emissions']\n",
    "\n",
    "#num_col = df.select_dtypes(include=['float64', 'int64']).columns\n",
    "\n",
    "# Calculate skewness\n",
    "skewness_values = df[num_col].skew()\n",
    "\n",
    "# Display skewness values\n",
    "print(\"Skewness of numerical columns:\\n\", skewness_values)"
   ]
  },
  {
   "cell_type": "code",
   "execution_count": null,
   "id": "6697e4d4-3d81-43d7-aff0-d0902e179817",
   "metadata": {},
   "outputs": [],
   "source": [
    "print(f'After Detecing Outliers')    \n",
    "# Select numerical columns\n",
    "num_col = ['engine_size', 'cylinders', 'fuel_consumption_city', \n",
    "                      'fuel_consumption_hwy', 'fuel_consumption_comb(l/100km)', \n",
    "                      'fuel_consumption_comb(mpg)', 'co2_emissions']\n",
    "\n",
    "#num_col = df.select_dtypes(include=['float64', 'int64']).columns\n",
    "\n",
    "# Plot histograms with KDE for each numerical column\n",
    "for col in num_col:\n",
    "    plt.figure(figsize=(6, 4))\n",
    "    sns.histplot(df[col], bins=30, kde=True, color=\"skyblue\")\n",
    "    plt.title(f'Distribution & Skewness of {col}')\n",
    "    plt.axvline(df[col].mean(), color='red', linestyle='dashed', linewidth=2, label=\"Mean\")\n",
    "    plt.legend()\n",
    "    plt.show()\n",
    "    \n"
   ]
  },
  {
   "cell_type": "code",
   "execution_count": null,
   "id": "8ae32fd4-6b93-4528-a3ca-20a9cff696c1",
   "metadata": {},
   "outputs": [],
   "source": [
    "# Selecting only numerical columns\n",
    "numerical_cols = ['engine_size', 'cylinders', 'fuel_consumption_city', \n",
    "                      'fuel_consumption_hwy', 'fuel_consumption_comb(l/100km)', \n",
    "                      'fuel_consumption_comb(mpg)', 'co2_emissions']\n",
    "\n",
    "#numerical_cols = data.select_dtypes(include=['number']).columns\n",
    "\n",
    "# Skewness before preprocessing\n",
    "print(\"Skewness Before Processing:\")\n",
    "skew_before = data[numerical_cols].skew()\n",
    "print(skew_before)\n",
    "\n",
    "# After preprocessing (Example: Removing outliers)\n",
    "# Assuming you already processed the data and stored it in 'data_cleaned'\n",
    "print(\"\\nSkewness After Processing:\")\n",
    "skew_after = df[numerical_cols].skew()\n",
    "print(skew_after)\n"
   ]
  },
  {
   "cell_type": "code",
   "execution_count": null,
   "id": "8e6144e4-1246-4421-b24c-2a3ba14416c1",
   "metadata": {},
   "outputs": [],
   "source": [
    "df.columns\n"
   ]
  },
  {
   "cell_type": "code",
   "execution_count": null,
   "id": "76d2858d-16ec-494e-8905-7b930c31d483",
   "metadata": {},
   "outputs": [],
   "source": [
    "df[numerical_cols].corr()"
   ]
  },
  {
   "cell_type": "code",
   "execution_count": null,
   "id": "3760c6cd-e2b4-423a-a477-69d9649a8e6e",
   "metadata": {},
   "outputs": [],
   "source": [
    "plt.figure(figsize=(10, 6))\n",
    "sns.boxplot(data=df[numerical_cols], orient=\"h\")\n",
    "plt.title(\"Box Plot of Features After Outlier Removal \")\n",
    "plt.show()\n",
    "\n"
   ]
  },
  {
   "cell_type": "markdown",
   "id": "e1d03c23-8086-4d25-a635-3fa0ded8ef17",
   "metadata": {},
   "source": [
    "## 4.Correlation Analysis"
   ]
  },
  {
   "cell_type": "code",
   "execution_count": null,
   "id": "86fec911-083b-4785-9542-77e2b5af75a6",
   "metadata": {},
   "outputs": [],
   "source": [
    "df.shape"
   ]
  },
  {
   "cell_type": "code",
   "execution_count": null,
   "id": "4069cce0-7269-4fe3-9464-08db374f57e1",
   "metadata": {},
   "outputs": [],
   "source": [
    "# Select numerical columns only\n",
    "num_cols = ['engine_size', 'cylinders', 'fuel_consumption_city', 'fuel_consumption_hwy', \n",
    "            'fuel_consumption_comb(l/100km)', 'fuel_consumption_comb(mpg)', 'co2_emissions']\n",
    "\n",
    "# Compute correlation before removing outliers\n",
    "corr_before = data[num_cols].corr()\n",
    "\n",
    "# Compute correlation after removing outliers\n",
    "corr_after = df[num_cols].corr()\n",
    "\n",
    "# ------- PLOT HEATMAPS BEFORE & AFTER REMOVING OUTLIERS -------\n",
    "fig, axes = plt.subplots(1, 2, figsize=(15, 6))\n",
    "\n",
    "# Heatmap before outlier removal\n",
    "sns.heatmap(corr_before, annot=True, cmap=\"coolwarm\", fmt=\".2f\", ax=axes[0])\n",
    "axes[0].set_title(\"Correlation Before Removing Outliers\")\n",
    "\n",
    "# Heatmap after outlier removal\n",
    "sns.heatmap(corr_after, annot=True, cmap=\"coolwarm\", fmt=\".2f\", ax=axes[1])\n",
    "axes[1].set_title(\"Correlation After Removing Outliers\")\n",
    "\n",
    "plt.tight_layout()\n",
    "plt.show()\n"
   ]
  },
  {
   "cell_type": "markdown",
   "id": "ccab2714-84a3-4672-935a-fc4cdc969dac",
   "metadata": {},
   "source": [
    "# **Data Cleaning**"
   ]
  },
  {
   "cell_type": "markdown",
   "id": "206c86af-bf18-44ab-ab9d-21695f4fbcc2",
   "metadata": {},
   "source": [
    "**Drop the Natural Gas category from the fuel_type column since it has only one occurrence. Keeping it may not add any significant value to the model and could introduce noise.**"
   ]
  },
  {
   "cell_type": "code",
   "execution_count": null,
   "id": "b9497118-de04-4e1b-a029-c4fe1ed104f4",
   "metadata": {},
   "outputs": [],
   "source": [
    "df_n = df[df['fuel_type'] == 'N']\n",
    "index=df_n.index\n",
    "df_n"
   ]
  },
  {
   "cell_type": "code",
   "execution_count": null,
   "id": "71fd574b-83ed-4026-9ab4-f5e629b4fbc6",
   "metadata": {},
   "outputs": [],
   "source": [
    "for i in index:\n",
    "    df_n.drop(i,axis=0,inplace=True)"
   ]
  },
  {
   "cell_type": "code",
   "execution_count": null,
   "id": "8431be3f-824f-48a9-9fc7-1f3d956cb4c8",
   "metadata": {},
   "outputs": [],
   "source": [
    "df_n[df_n['fuel_type']=='N']"
   ]
  },
  {
   "cell_type": "code",
   "execution_count": null,
   "id": "108d0219-3a82-46af-af46-f72be62b7717",
   "metadata": {},
   "outputs": [],
   "source": [
    "dums = pd.get_dummies(df['fuel_type'],prefix='fuel_typeX',drop_first=True)\n",
    "dums.iloc[0:5]"
   ]
  },
  {
   "cell_type": "code",
   "execution_count": null,
   "id": "fce1c1e6-acf9-44f1-a7a6-f1884e55f5ef",
   "metadata": {},
   "outputs": [],
   "source": [
    "df['fuel_type']=df['fuel_type'].map({'False':0,'True':1})"
   ]
  },
  {
   "cell_type": "code",
   "execution_count": null,
   "id": "53564f27-c53c-4ae4-899f-bcb9873ff7ca",
   "metadata": {},
   "outputs": [],
   "source": [
    "frames = [df, dums]\n",
    "result = pd.concat(frames,axis=1)\n",
    "result.head()"
   ]
  },
  {
   "cell_type": "code",
   "execution_count": null,
   "id": "64fac16d-e7d5-4fe3-924c-f72a7efce483",
   "metadata": {},
   "outputs": [],
   "source": [
    "result.drop(['fuel_type'],inplace=True,axis=1)\n",
    "result.head()"
   ]
  },
  {
   "cell_type": "code",
   "execution_count": null,
   "id": "bc571287-98c7-4d26-a3fa-4cac277cbb7c",
   "metadata": {},
   "outputs": [],
   "source": [
    "df_check=df['fuel_type'].value_counts()\n",
    "df_check"
   ]
  },
  {
   "cell_type": "markdown",
   "id": "d94acf53-5686-4d57-8360-2df180112741",
   "metadata": {},
   "source": [
    "**Impact on Model Performance: If Natural Gas vehicles have distinct CO₂ emission patterns, removing them might slightly affect the model's accuracy**"
   ]
  },
  {
   "cell_type": "code",
   "execution_count": null,
   "id": "44ec3bbe-a8f1-42c5-90cf-9431fe9d1765",
   "metadata": {},
   "outputs": [],
   "source": [
    "df_corr=df.select_dtypes(include=['float','int']).columns"
   ]
  },
  {
   "cell_type": "code",
   "execution_count": null,
   "id": "505f6578-cc1f-41a0-a0ba-d662cb7f03d9",
   "metadata": {},
   "outputs": [],
   "source": [
    "df[df_corr].corr().T"
   ]
  },
  {
   "cell_type": "code",
   "execution_count": null,
   "id": "297dc145-ef99-4e36-bc78-4d27b8053959",
   "metadata": {},
   "outputs": [],
   "source": [
    "df.isnull().sum()"
   ]
  },
  {
   "cell_type": "markdown",
   "id": "a02e2e84-350a-4725-880b-9f60ce96a7aa",
   "metadata": {},
   "source": [
    "## 5.Variance Inflation Factor (VIF)"
   ]
  },
  {
   "cell_type": "code",
   "execution_count": null,
   "id": "149935d2-507c-4359-baeb-7c2fa75b0b16",
   "metadata": {},
   "outputs": [],
   "source": [
    "X=df.iloc[:,[2,3,5,10]]\n",
    "y=df.iloc[:,11]\n",
    "# Fit Linear Model\n",
    "model = LinearRegression()\n",
    "model.fit(X, y)\n",
    "y_pred = model.predict(X)\n",
    "\n",
    "# Residuals Calculation\n",
    "residuals = y - y_pred\n",
    "\n",
    "plt.figure(figsize=(8, 5))\n",
    "sns.residplot(x=y_pred, y=residuals, lowess=True, line_kws={'color': 'red'})\n",
    "plt.axhline(y=0, linestyle='--', color='gray')\n",
    "plt.xlabel(\"Predicted CO₂ Emissions\")\n",
    "plt.ylabel(\"Residuals\")\n",
    "plt.title(\"Residual Plot\")\n",
    "plt.show()\n",
    "\n",
    "# R² Score (Check if Linear Fit is Good)\n",
    "r2 = r2_score(y, y_pred)\n",
    "print(f\"\\n✅ R² Score for Linear Fit: {r2:.4f} (Close to 1 means linear)\")"
   ]
  },
  {
   "cell_type": "markdown",
   "id": "c4c99473-40ca-4011-b543-68d89f0a3c5b",
   "metadata": {},
   "source": [
    "**Interpretation of VIF Values**\n",
    "\n",
    "VIF < 5 → Low multicollinearity (Good) \n",
    "\n",
    "VIF 5-10 → Moderate multicollinearity (Consider removing/reducing) \n",
    "\n",
    "VIF > 10 → High multicollinearity (Serious issue, needs fixing)"
   ]
  },
  {
   "cell_type": "markdown",
   "id": "dfaf31ad-adbe-4abb-8d54-41861098bf66",
   "metadata": {},
   "source": [
    "## 6.Feature Scaling"
   ]
  },
  {
   "cell_type": "markdown",
   "id": "193219ba-a5d9-4e40-b47d-8b7c5193ff01",
   "metadata": {},
   "source": [
    "### **Normalization (Min-Max Scaling)**"
   ]
  },
  {
   "cell_type": "code",
   "execution_count": null,
   "id": "decc38ee-2330-4764-8bdb-701f7cb1a22e",
   "metadata": {},
   "outputs": [],
   "source": [
    "# Select numerical columns\n",
    "features =  ['engine_size','cylinders','fuel_consumption_city','fuel_consumption_hwy','fuel_consumption_comb(l/100km)','fuel_consumption_comb(mpg)']\n",
    "\n",
    "#Applying Minmaxscalar\n",
    "scaler = MinMaxScaler()\n",
    "df[features] = scaler.fit_transform(df[features])\n",
    "\n",
    "#check the normalized values\n",
    "df[features].head()"
   ]
  },
  {
   "cell_type": "code",
   "execution_count": null,
   "id": "4620efe0-a2b6-4b14-bcc6-147889cbf883",
   "metadata": {},
   "outputs": [],
   "source": [
    "df.head()\n"
   ]
  },
  {
   "cell_type": "code",
   "execution_count": null,
   "id": "2ba6e130-6bd0-4eb5-82e0-98d99694b7d9",
   "metadata": {},
   "outputs": [],
   "source": [
    "# Fit a simple linear regression model\n",
    "X = df[\"engine_size\"]\n",
    "y = df[\"co2_emissions\"]\n",
    "X = sm.add_constant(X)  # Add intercept\n",
    "model = sm.OLS(y, X).fit()\n",
    "residuals = model.resid  # Get residuals\n",
    "\n",
    "# Plot residuals\n",
    "plt.figure(figsize=(8, 5))\n",
    "plt.scatter(df[\"engine_size\"], residuals, alpha=0.7)\n",
    "plt.axhline(y=0, color='r', linestyle='--')\n",
    "plt.xlabel(\"Engine size\")\n",
    "plt.ylabel(\"Residuals\")\n",
    "plt.title(\"Residual Plot\")\n",
    "plt.show()\n"
   ]
  },
  {
   "cell_type": "code",
   "execution_count": null,
   "id": "d62e4fb2-f3a9-4df0-98c6-67d51879dba0",
   "metadata": {},
   "outputs": [],
   "source": [
    "# Fit a simple linear regression model\n",
    "X = df[\"cylinders\"]\n",
    "y = df[\"co2_emissions\"]\n",
    "X = sm.add_constant(X)  # Add intercept\n",
    "model = sm.OLS(y, X).fit()\n",
    "residuals = model.resid  # Get residuals\n",
    "\n",
    "# Plot residuals\n",
    "plt.figure(figsize=(8, 5))\n",
    "plt.scatter(df[\"cylinders\"], residuals, alpha=0.7)\n",
    "plt.axhline(y=0, color='r', linestyle='--')\n",
    "plt.xlabel(\"Cylinders\")\n",
    "plt.ylabel(\"Residuals\")\n",
    "plt.title(\"Residual Plot\")\n",
    "plt.show()\n"
   ]
  },
  {
   "cell_type": "code",
   "execution_count": null,
   "id": "eed9853a-0b83-426b-925f-2cdd2699ee7e",
   "metadata": {},
   "outputs": [],
   "source": [
    "# Fit a simple linear regression model\n",
    "X = df[\"fuel_consumption_comb(l/100km)\"]\n",
    "y = df[\"co2_emissions\"]\n",
    "X = sm.add_constant(X)  # Add intercept\n",
    "model = sm.OLS(y, X).fit()\n",
    "residuals = model.resid  # Get residuals\n",
    "\n",
    "# Plot residuals\n",
    "plt.figure(figsize=(8, 5))\n",
    "plt.scatter(df[\"fuel_consumption_comb(l/100km)\"], residuals, alpha=0.7)\n",
    "plt.axhline(y=0, color='r', linestyle='--')\n",
    "plt.xlabel(\"Fuel Consumption (L/100km)\")\n",
    "plt.ylabel(\"Residuals\")\n",
    "plt.title(\"Residual Plot\")\n",
    "plt.show()\n"
   ]
  },
  {
   "cell_type": "code",
   "execution_count": null,
   "id": "21db1d6a-8868-4ed8-80b6-032391fd49bd",
   "metadata": {},
   "outputs": [],
   "source": [
    "# Fit a simple linear regression model\n",
    "X = df[\"fuel_consumption_comb(mpg)\"]\n",
    "y = df[\"co2_emissions\"]\n",
    "X = sm.add_constant(X)  # Add intercept\n",
    "model = sm.OLS(y, X).fit()\n",
    "residuals = model.resid  # Get residuals\n",
    "\n",
    "# Plot residuals\n",
    "plt.figure(figsize=(8, 5))\n",
    "plt.scatter(df[\"fuel_consumption_comb(mpg)\"], residuals, alpha=0.7)\n",
    "plt.axhline(y=0, color='r', linestyle='--')\n",
    "plt.xlabel(\"Fuel Consumption (mpg)\")\n",
    "plt.ylabel(\"Residuals\")\n",
    "plt.title(\"Residual Plot\")\n",
    "plt.show()"
   ]
  },
  {
   "cell_type": "code",
   "execution_count": null,
   "id": "b76134d5-111a-4e45-a5ef-03918d3b40d9",
   "metadata": {},
   "outputs": [],
   "source": [
    "\n",
    "# Fit a simple linear regression model\n",
    "X = df[\"fuel_consumption_hwy\"]\n",
    "y = df[\"co2_emissions\"]\n",
    "X = sm.add_constant(X)  # Add intercept\n",
    "model = sm.OLS(y, X).fit()\n",
    "residuals = model.resid  # Get residuals\n",
    "\n",
    "# Plot residuals\n",
    "plt.figure(figsize=(8, 5))\n",
    "plt.scatter(df[\"fuel_consumption_hwy\"], residuals, alpha=0.7)\n",
    "plt.axhline(y=0, color='r', linestyle='--')\n",
    "plt.xlabel(\"Fuel Consumption (hwy)\")\n",
    "plt.ylabel(\"Residuals\")\n",
    "plt.title(\"Residual Plot\")\n",
    "plt.show()\n"
   ]
  },
  {
   "cell_type": "code",
   "execution_count": null,
   "id": "98393d34-0bea-4a70-aef8-362f2c1303b5",
   "metadata": {},
   "outputs": [],
   "source": [
    "\n",
    "# Fit a simple linear regression model\n",
    "X = df[\"fuel_consumption_city\"]\n",
    "y = df[\"co2_emissions\"]\n",
    "X = sm.add_constant(X)  # Add intercept\n",
    "model = sm.OLS(y, X).fit()\n",
    "residuals = model.resid  # Get residuals\n",
    "\n",
    "# Plot residuals\n",
    "plt.figure(figsize=(8, 5))\n",
    "plt.scatter(df[\"fuel_consumption_city\"], residuals, alpha=0.7)\n",
    "plt.axhline(y=0, color='r', linestyle='--')\n",
    "plt.xlabel(\"Fuel Consumption City  \")\n",
    "plt.ylabel(\"Residuals\")\n",
    "plt.title(\"Residual Plot\")\n",
    "plt.show()"
   ]
  },
  {
   "cell_type": "code",
   "execution_count": null,
   "id": "b3e12797-6093-40b2-b62d-a05f91976226",
   "metadata": {},
   "outputs": [],
   "source": [
    "# Fit a simple linear regression model\n",
    "X = df[\"fuel_consumption_comb(l/100km)\"]\n",
    "y = df[\"co2_emissions\"]\n",
    "X = sm.add_constant(X)  # Add intercept\n",
    "model = sm.OLS(y, X).fit()\n",
    "residuals = model.resid  # Get residuals\n",
    "\n",
    "# Plot residuals\n",
    "plt.figure(figsize=(8, 5))\n",
    "plt.scatter(df[\"fuel_consumption_comb(l/100km)\"], residuals, alpha=0.7)\n",
    "plt.axhline(y=0, color='r', linestyle='--')\n",
    "plt.xlabel(\"Fuel Consumption (L/100km)\")\n",
    "plt.ylabel(\"Residuals\")\n",
    "plt.title(\"Residual Plot\")\n",
    "plt.show()"
   ]
  },
  {
   "cell_type": "code",
   "execution_count": null,
   "id": "7e654b3b-bf13-40f8-abfd-dbf398f5620c",
   "metadata": {},
   "outputs": [],
   "source": [
    "from sklearn.feature_selection import f_classif, f_regression\n",
    "import pandas as pd\n",
    "\n",
    "# Select numerical features\n",
    "X = df.iloc[:,[0,1,2,3,4,5,7,8,9,10]]  # Features\n",
    "y = df['co2_emissions']  # Target variable\n",
    "\n",
    "# Perform ANOVA F-test\n",
    "f_values, p_values = f_regression(X, y)\n",
    "\n",
    "# Store results in a DataFrame\n",
    "anova_results = pd.DataFrame({'Feature': X.columns, 'F-Value': f_values, 'P-Value': p_values})\n",
    "anova_results = anova_results.sort_values(by=\"F-Value\", ascending=False)\n",
    "\n",
    "print(\"ANOVA F-Test Results:\")\n",
    "print(anova_results)\n"
   ]
  },
  {
   "cell_type": "code",
   "execution_count": null,
   "id": "a6bb1650-51d1-400a-95ea-63c305974afa",
   "metadata": {},
   "outputs": [],
   "source": [
    "from sklearn.feature_selection import RFE\n",
    "# Step 1: Use Filter Method (ANOVA)\n",
    "significant_features = anova_results[anova_results['P-Value'] < 0.05]['Feature']\n",
    "\n",
    "# Step 2: Use Wrapper Method (RFE)\n",
    "rfe = RFE(estimator=LinearRegression(), n_features_to_select=5)\n",
    "X_rfe = rfe.fit_transform(X[significant_features], y)\n",
    "rfe_selected_features = significant_features[rfe.support_]\n",
    "\n",
    "# Step 3: Use Embedded Method (LASSO)\n",
    "lasso = Lasso(alpha=0.1)\n",
    "lasso.fit(X[rfe_selected_features], y)\n",
    "lasso_selected_features = rfe_selected_features[lasso.coef_ != 0]\n",
    "\n",
    "print(\"Final Selected Features:\", list(lasso_selected_features))\n"
   ]
  },
  {
   "cell_type": "code",
   "execution_count": null,
   "id": "07a10928-0f93-4bd1-89a1-b1178af50425",
   "metadata": {},
   "outputs": [],
   "source": [
    "# Select relevant features\n",
    "selected_features1 = ['engine_size','cylinders','fuel_consumption_comb(mpg)',\n",
    "                     'fuel_consumption_comb(l/100km)']\n",
    "\n",
    "# Create a new DataFrame with selected features\n",
    "X_selected = df[selected_features1]\n",
    "\n",
    "# Compute VIF\n",
    "vif_data = pd.DataFrame()\n",
    "vif_data[\"Feature\"] = X_selected.columns\n",
    "vif_data[\"VIF\"] = [variance_inflation_factor(X_selected.values, i) for i in range(X_selected.shape[1])]\n",
    "\n",
    "print(vif_data)\n"
   ]
  },
  {
   "cell_type": "markdown",
   "id": "440148a5-78cf-4309-94c9-d8915b1ccf83",
   "metadata": {},
   "source": [
    "## 7. Split Data for Training & Testing "
   ]
  },
  {
   "cell_type": "code",
   "execution_count": null,
   "id": "01c13515-c52f-469f-bce2-ef689e075981",
   "metadata": {},
   "outputs": [],
   "source": [
    "X=df[['engine_size','cylinders','fuel_consumption_comb(l/100km)','fuel_consumption_comb(mpg)']]\n",
    "y=df['co2_emissions']\n",
    "X.shape,y.shape"
   ]
  },
  {
   "cell_type": "code",
   "execution_count": null,
   "id": "c059a2ed-08e7-4bcf-a346-b2bc38fff216",
   "metadata": {},
   "outputs": [],
   "source": [
    "X.head()"
   ]
  },
  {
   "cell_type": "code",
   "execution_count": null,
   "id": "7b6fa28e-b935-4973-8153-7e0b91ee4dfa",
   "metadata": {},
   "outputs": [],
   "source": [
    "y.head()"
   ]
  },
  {
   "cell_type": "code",
   "execution_count": null,
   "id": "8e0a7efd-9e29-4e5c-8d93-562631e65fd3",
   "metadata": {},
   "outputs": [],
   "source": [
    "X_train, X_test, y_train, y_test = train_test_split(X, y, test_size=0.2, random_state=42)"
   ]
  },
  {
   "cell_type": "code",
   "execution_count": null,
   "id": "b02a9aef-7223-464d-90e8-1f6225c439a7",
   "metadata": {},
   "outputs": [],
   "source": [
    "X_train.shape,X_test.shape, y_train.shape,y_test.shape"
   ]
  },
  {
   "cell_type": "code",
   "execution_count": null,
   "id": "f5cfcead-554c-4d68-8580-3799535c55f4",
   "metadata": {},
   "outputs": [],
   "source": []
  },
  {
   "cell_type": "markdown",
   "id": "5853653d-9333-4942-a8a0-9413c0df5caa",
   "metadata": {},
   "source": [
    "# **MODEL SELECTION**"
   ]
  },
  {
   "cell_type": "markdown",
   "id": "a9aa791c-a20d-43de-9cbc-7c79a3526bba",
   "metadata": {},
   "source": [
    "## **Train the Models & Models Evaluation**"
   ]
  },
  {
   "cell_type": "markdown",
   "id": "1d7256b1-931d-4c78-a2b7-ce10c847cae3",
   "metadata": {},
   "source": [
    "**Fit the selected model to the training data & Assess model performance using metrics**"
   ]
  },
  {
   "cell_type": "code",
   "execution_count": null,
   "id": "6d92f939-5ee1-416d-8102-fa48b45d33b4",
   "metadata": {},
   "outputs": [],
   "source": [
    "# Function to compute train and test metrics\n",
    "def train_val(y_train, y_train_pred, y_test, y_pred, models_name):\n",
    "    scores = {\n",
    "        models_name + '_train': { \n",
    "            \"MAE\": mean_absolute_error(y_train, y_train_pred),\n",
    "            \"MSE\": mean_squared_error(y_train, y_train_pred),\n",
    "            \"R² Score\": r2_score(y_train, y_train_pred),\n",
    "            \"RMSE\": np.sqrt(mean_squared_error(y_train, y_train_pred)),\n",
    "            \"Mean Difference\": np.mean(abs(y_train - y_train_pred))\n",
    "        },\n",
    "        models_name + '_test': {\n",
    "            \"MAE\": mean_absolute_error(y_test, y_pred),\n",
    "            \"MSE\": mean_squared_error(y_test, y_pred),\n",
    "            \"R² Score\": r2_score(y_test, y_pred),\n",
    "            \"RMSE\": np.sqrt(mean_squared_error(y_test, y_pred)),\n",
    "            \"Mean Difference\": np.mean(abs(y_test - y_pred))\n",
    "        }\n",
    "    }\n",
    "    return pd.DataFrame.from_dict(scores, orient='index')  \n",
    "\n",
    "# Dictionary to store model scores\n",
    "models_scores = {}\n",
    "\n",
    "# Cross-validation function\n",
    "def cross_val(models, X, y):\n",
    "    kf = KFold(n_splits=5, shuffle=True, random_state=42)\n",
    "    cv_scores = cross_val_score(models, X, y, cv=kf, scoring='r2')\n",
    "    return np.mean(cv_scores), np.std(cv_scores)  # Return mean and std deviation\n",
    "\n",
    "# Train-test split (Ensure y is 1D)\n",
    "X_train, X_test, y_train, y_test = train_test_split(X, y, test_size=0.2, random_state=42)\n",
    "y_train = y_train.ravel()\n",
    "y_test = y_test.ravel()\n",
    "\n",
    "# ======= Linear Regression =======\n",
    "lr = LinearRegression()\n",
    "lr.fit(X_train, y_train)\n",
    "y_train_pred_lr = lr.predict(X_train)\n",
    "y_pred_lr = lr.predict(X_test)\n",
    "models_scores[\"Linear Regression\"] = train_val(y_train, y_train_pred_lr, y_test, y_pred_lr, \"Linear\")\n",
    "cv_mean_lr, cv_std_lr = cross_val(lr, X_train, y_train)\n",
    "\n",
    "# ======= Random Forest Regression =======\n",
    "rf = RandomForestRegressor(n_estimators=100, random_state=42)\n",
    "rf.fit(X_train, y_train)\n",
    "y_train_pred_rf = rf.predict(X_train)\n",
    "y_pred_rf = rf.predict(X_test)\n",
    "models_scores[\"Random Forest\"] = train_val(y_train, y_train_pred_rf, y_test, y_pred_rf, \"RandomForest\")\n",
    "cv_mean_rf, cv_std_rf = cross_val(rf, X_train, y_train)\n",
    "\n",
    "# ======= Support Vector Regression (SVM) =======\n",
    "svr = SVR(kernel='rbf')\n",
    "svr.fit(X_train, y_train)\n",
    "y_train_pred_svr = svr.predict(X_train)\n",
    "y_pred_svr = svr.predict(X_test)\n",
    "models_scores[\"Support Vector Machine\"] = train_val(y_train, y_train_pred_svr, y_test, y_pred_svr, \"SVR\")\n",
    "cv_mean_svr, cv_std_svr = cross_val(svr, X_train, y_train)\n",
    "\n",
    "# ======= K-Nearest Neighbors (KNN) Regression =======\n",
    "knn = KNeighborsRegressor(n_neighbors=5)\n",
    "knn.fit(X_train, y_train)\n",
    "y_train_pred_knn = knn.predict(X_train)\n",
    "y_pred_knn = knn.predict(X_test)\n",
    "models_scores[\"K-Nearest Neighbors\"] = train_val(y_train, y_train_pred_knn, y_test, y_pred_knn, \"KNN\")\n",
    "cv_mean_knn, cv_std_knn = cross_val(knn, X_train, y_train)\n",
    "\n",
    "# ======= Print All Scores =======\n",
    "for models_name, score_df in models_scores.items():\n",
    "    print(f\"\\n Model: {models_name}\")\n",
    "    print(score_df)\n",
    "\n",
    "# ======= Print Cross-Validation Scores =======\n",
    "cv_results = pd.DataFrame({\n",
    "    \"Model\": [\"Linear Regression\", \"Random Forest\", \"SVR\", \"KNN\"],\n",
    "    \"CV Mean R²\": [cv_mean_lr, cv_mean_rf, cv_mean_svr, cv_mean_knn],\n",
    "    \"CV Std Dev\": [cv_std_lr, cv_std_rf, cv_std_svr, cv_std_knn]\n",
    "})\n",
    "\n",
    "print(\"\\n Cross-Validation Results:\")\n",
    "print(cv_results.round(4))  # Round results for readability\n"
   ]
  },
  {
   "cell_type": "markdown",
   "id": "a2209b4e-eb7f-4b12-93ed-4d7d6b4c9021",
   "metadata": {},
   "source": [
    "# **Visualization of Model Performance**"
   ]
  },
  {
   "cell_type": "markdown",
   "id": "c0d00735-00fa-4fa4-aca9-7aabc9ceb85b",
   "metadata": {},
   "source": [
    "**We can use various plots to visualize the model performance**"
   ]
  },
  {
   "cell_type": "markdown",
   "id": "96d4fa66-e306-470a-8778-ab5134e3d8e0",
   "metadata": {},
   "source": [
    "## 1. Residual Plot (Errors for Each Model)"
   ]
  },
  {
   "cell_type": "markdown",
   "id": "80602ad7-427b-4af5-95a7-73cc9f1724ff",
   "metadata": {},
   "source": [
    "*****Residuals = Actual - Predicted. A good model has randomly scattered residuals around zero*****."
   ]
  },
  {
   "cell_type": "code",
   "execution_count": null,
   "id": "3e46bacc-0227-462f-a788-c4986d678ea1",
   "metadata": {},
   "outputs": [],
   "source": [
    "m1 = {\n",
    "    \"Linear Regression\": y_pred_lr,\n",
    "    \"Random Forest\": y_pred_rf,\n",
    "    \"SVR\": y_pred_svr,\n",
    "    \"KNN\": y_pred_knn\n",
    "}\n",
    "\n",
    "plt.figure(figsize=(12, 8))\n",
    "for i, (model_name, y_pred) in enumerate(m1.items(), 1):\n",
    "    plt.subplot(2, 2, i)\n",
    "    residuals = y_test - y_pred\n",
    "    sns.histplot(residuals, kde=True, bins=30)\n",
    "    plt.axvline(x=0, color='red', linestyle='dashed', linewidth=1.5)\n",
    "    plt.title(f\"Residual Distribution - {model_name}\")\n",
    "\n",
    "plt.tight_layout()\n",
    "plt.show()\n"
   ]
  },
  {
   "cell_type": "code",
   "execution_count": null,
   "id": "82bdd22c-e35e-4fa8-9fb4-519bbc51b6a4",
   "metadata": {},
   "outputs": [],
   "source": [
    "m2 = {\n",
    "    \"Linear Regression\": y_pred_lr,\n",
    "    \"Random Forest\": y_pred_rf,\n",
    "    \"SVR\": y_pred_svr,\n",
    "    \"KNN\": y_pred_knn\n",
    "}\n",
    "\n",
    "plt.figure(figsize=(12, 8))\n",
    "for i, (model_name, y_pred) in enumerate(m2.items(), 1):\n",
    "    plt.subplot(2, 2, i)\n",
    "    residuals = y_test - y_pred  # Calculate residuals (actual - predicted)\n",
    "    plt.scatter(y_pred, residuals, alpha=0.6, edgecolors='b')\n",
    "    plt.axhline(y=0, color='red', linestyle='dashed', linewidth=1.5)  # Horizontal line at zero\n",
    "    plt.xlabel(\"Predicted CO₂ Emissions\")\n",
    "    plt.ylabel(\"Residuals (Actual - Predicted)\")\n",
    "    plt.title(f\"Residual Scatter Plot - {model_name}\")\n",
    "\n",
    "plt.tight_layout()\n",
    "plt.show()\n"
   ]
  },
  {
   "cell_type": "markdown",
   "id": "c82cf91f-8c57-42b3-bcd8-372a73e58d20",
   "metadata": {},
   "source": [
    " ## 2. Actual vs. Predicted Plot (Scatter Plot for Each Model)"
   ]
  },
  {
   "cell_type": "markdown",
   "id": "fc237f81-3618-4324-b80a-82da31c43061",
   "metadata": {},
   "source": [
    "*****This plot helps compare actual and predicted values. Ideally, points should align along the diagonal line (y = x)*****"
   ]
  },
  {
   "cell_type": "code",
   "execution_count": null,
   "id": "5886d218-08cb-4cf8-9d20-3068416263fe",
   "metadata": {},
   "outputs": [],
   "source": [
    "plt.figure(figsize=(12, 8))\n",
    "for i, (model_name, y_pred) in enumerate(m1.items(), 1):\n",
    "    plt.subplot(2, 2, i)\n",
    "    plt.scatter(y_test, y_pred, alpha=0.6, edgecolors='b')\n",
    "    plt.plot([min(y_test), max(y_test)], [min(y_test), max(y_test)], color='red', linestyle='dashed')\n",
    "    plt.xlabel(\"Actual CO₂ Emissions\")\n",
    "    plt.ylabel(\"Predicted CO₂ Emissions\")\n",
    "    plt.title(f\"Actual vs Predicted - {model_name}\")\n",
    "\n",
    "plt.tight_layout()\n",
    "plt.show()\n",
    "\n"
   ]
  },
  {
   "cell_type": "markdown",
   "id": "8e3858a3-0612-4016-87e9-3646236bbeae",
   "metadata": {},
   "source": [
    "## 3. Error Distribution for Each Model"
   ]
  },
  {
   "cell_type": "markdown",
   "id": "c8525f4c-5f3e-43ca-a275-1402c4ef62bc",
   "metadata": {},
   "source": [
    "*****Understanding how errors are distributed helps identify bias*****."
   ]
  },
  {
   "cell_type": "code",
   "execution_count": null,
   "id": "c8deb3bb-30e0-45f7-90a9-74f040039e86",
   "metadata": {},
   "outputs": [],
   "source": [
    "plt.figure(figsize=(12, 8))\n",
    "for i, (model_name, y_pred) in enumerate(m2.items(), 1):\n",
    "    plt.subplot(2, 2, i)\n",
    "    errors = abs(y_test - y_pred)\n",
    "    sns.histplot(errors, kde=True, bins=30, color=\"blue\")\n",
    "    plt.xlabel(\"Prediction Error\")\n",
    "    plt.title(f\"Error Distribution - {model_name}\")\n",
    "\n",
    "plt.tight_layout()\n",
    "plt.show()\n"
   ]
  },
  {
   "cell_type": "markdown",
   "id": "0ebd7705-dd5f-465f-868d-63da379274c8",
   "metadata": {},
   "source": [
    "# **Hyperparameter Tuning (Optimization)**"
   ]
  },
  {
   "cell_type": "markdown",
   "id": "893c1fb6-c1bc-48bf-8162-c3700f21acd8",
   "metadata": {},
   "source": [
    "**To Improve model performance , we can use GridSearchCV or RandomizedSearchCV to find the Besy Hyperparameters.**"
   ]
  },
  {
   "cell_type": "markdown",
   "id": "d8a1c85b-17e4-4ffd-9533-f4690be9e488",
   "metadata": {},
   "source": [
    " ### **Random Forest Regressor**"
   ]
  },
  {
   "cell_type": "code",
   "execution_count": null,
   "id": "29a74403-4afd-42fe-ac89-13572141bcab",
   "metadata": {},
   "outputs": [],
   "source": [
    "rf_params = {\n",
    "    'n_estimators': [50, 100, 200, 500],\n",
    "    'max_depth': [None, 10, 20, 30],\n",
    "    'min_samples_split': [2, 5, 10],\n",
    "    'min_samples_leaf': [1, 2, 4]\n",
    "}\n",
    "\n",
    "rf_random = RandomizedSearchCV(\n",
    "    estimator=RandomForestRegressor(random_state=42),\n",
    "    param_distributions=rf_params,\n",
    "    n_iter=20,  # Number of combinations to try\n",
    "    cv=5,\n",
    "    scoring='r2',\n",
    "    verbose=1,\n",
    "    random_state=42,\n",
    "    n_jobs=-1\n",
    ")\n",
    "\n",
    "rf_random.fit(X_train, y_train)\n",
    "best_rf = rf_random.best_estimator_\n",
    "print(\"Best Random Forest Params:\", rf_random.best_params_)\n"
   ]
  },
  {
   "cell_type": "markdown",
   "id": "9ba6b2ce-bada-4097-ab5c-33ae2b7b3104",
   "metadata": {},
   "source": [
    "### **Support Vector Regressor (SVR)**"
   ]
  },
  {
   "cell_type": "raw",
   "id": "81382de1-6d4a-413c-a2c7-c4bf0396c0fd",
   "metadata": {},
   "source": [
    "# Define parameter grid\n",
    "svr_params = {\n",
    "    'C': [0.1, 1, 10, 100],  # Higher C means more penalty for errors\n",
    "    'epsilon': [0.01, 0.1, 0.5, 1],  # Defines margin of tolerance\n",
    "    'gamma': ['scale', 'auto', 0.01, 0.1, 1],  # How far influence spreads\n",
    "    'kernel': ['linear', 'poly', 'rbf', 'sigmoid']  # Different SVR kernels\n",
    "}\n",
    "\n",
    "# GridSearchCV with 5-fold cross-validation\n",
    "svr_gridsearch = GridSearchCV(estimator=SVR(), param_grid= svr_params, cv=5, scoring='r2')\n",
    "\n",
    "\n",
    "# Get best parameters\n",
    "svr_gridsearch.fit(X_train,y_train)\n",
    "best_svr = svr_gridsearch.best_estimator_\n",
    "print(\"Best Parameters for SVR:\", best_svr.best_params)\n"
   ]
  },
  {
   "cell_type": "code",
   "execution_count": null,
   "id": "3e4c4efa-0d8b-445a-bf4f-195e96894a07",
   "metadata": {},
   "outputs": [],
   "source": [
    "svr_params = {\n",
    "    'kernel': ['rbf', 'linear', 'poly'],\n",
    "    'C': [0.1, 1, 10, 100],\n",
    "    'gamma': ['scale', 'auto', 0.01, 0.1, 1]\n",
    "}\n",
    "\n",
    "svr_random = RandomizedSearchCV(\n",
    "    estimator=SVR(),\n",
    "    param_distributions=svr_params,\n",
    "    n_iter=15,\n",
    "    cv=5,\n",
    "    scoring='r2',\n",
    "    verbose=1,\n",
    "    random_state=42,\n",
    "    n_jobs=-1\n",
    ")\n",
    "\n",
    "svr_random.fit(X_train, y_train)\n",
    "best_svr = svr_random.best_estimator_\n",
    "print(\"Best SVR Params:\", svr_random.best_params_)\n"
   ]
  },
  {
   "cell_type": "markdown",
   "id": "80c5888f-5718-42f6-9dd9-117161e88466",
   "metadata": {},
   "source": [
    "### **K-Nearest Neighbors (KNN)**"
   ]
  },
  {
   "cell_type": "code",
   "execution_count": null,
   "id": "fe2b7fd8-ce7a-4de8-8678-426451f22434",
   "metadata": {},
   "outputs": [],
   "source": [
    "knn_params = {\n",
    "    'n_neighbors': [3, 5, 7, 9, 11],\n",
    "    'weights': ['uniform', 'distance'],\n",
    "    'metric': ['euclidean', 'manhattan', 'minkowski']\n",
    "}\n",
    "\n",
    "knn_random = RandomizedSearchCV(\n",
    "    estimator=KNeighborsRegressor(),\n",
    "    param_distributions=knn_params,\n",
    "    n_iter=10,\n",
    "    cv=5,\n",
    "    scoring='r2',\n",
    "    verbose=1,\n",
    "    random_state=42,\n",
    "    n_jobs=-1\n",
    ")\n",
    "\n",
    "knn_random.fit(X_train, y_train)\n",
    "best_knn = knn_random.best_estimator_\n",
    "print(\"Best KNN Params:\", knn_random.best_params_)\n"
   ]
  },
  {
   "cell_type": "markdown",
   "id": "b95a067c-6f81-4e86-98ac-ef0281d7102e",
   "metadata": {},
   "source": [
    "# **Implementing the Best Hyperparameters in Models**"
   ]
  },
  {
   "cell_type": "markdown",
   "id": "f1c064c8-1fe3-4953-bae7-726d80168e6e",
   "metadata": {},
   "source": [
    "**Now that we have tuned our models using RandomizedSearchCV, we can update the models with the best hyperparameters found.**"
   ]
  },
  {
   "cell_type": "markdown",
   "id": "f42420f6-f595-4277-8f32-4a9b00134e63",
   "metadata": {},
   "source": [
    "### **Update Random Forest Regressor**"
   ]
  },
  {
   "cell_type": "code",
   "execution_count": null,
   "id": "766d45bf-6a9a-4e31-9b15-b8cd2d7cb6bd",
   "metadata": {},
   "outputs": [],
   "source": [
    "# Best hyperparameters from RandomizedSearchCV\n",
    "rf_best_params = rf_random.best_params_\n",
    "\n",
    "rf = RandomForestRegressor(\n",
    "    n_estimators=rf_best_params['n_estimators'],\n",
    "    max_depth=rf_best_params['max_depth'],\n",
    "    min_samples_split=rf_best_params['min_samples_split'],\n",
    "    min_samples_leaf=rf_best_params['min_samples_leaf'],\n",
    "    random_state=42\n",
    ")\n",
    "\n",
    "rf.fit(X_train, y_train)\n",
    "y_train_pred_rf = rf.predict(X_train)\n",
    "y_pred_rf = rf.predict(X_test)\n",
    "\n",
    "# Store scores\n",
    "models_scores[\"Random Forest (Tuned)\"] = train_val(y_train, y_train_pred_rf, y_test, y_pred_rf, \"RandomForest_Tuned\")\n",
    "cv_mean_rf, cv_std_rf = cross_val(rf, X_train, y_train)\n"
   ]
  },
  {
   "cell_type": "markdown",
   "id": "35644ca3-e037-49f1-959d-b64f6596d3ec",
   "metadata": {},
   "source": [
    "### **Update Support Vector Regressor (SVR)**"
   ]
  },
  {
   "cell_type": "code",
   "execution_count": null,
   "id": "968aff24-410e-41d5-ba61-726f2e7e58c3",
   "metadata": {},
   "outputs": [],
   "source": [
    "# Best hyperparameters from RandomizedSearchCV\n",
    "svr_best_params = svr_random.best_params_\n",
    "\n",
    "svr = SVR(\n",
    "    kernel=svr_best_params['kernel'],\n",
    "    C=svr_best_params['C'],\n",
    "    gamma=svr_best_params['gamma']\n",
    ")\n",
    "\n",
    "svr.fit(X_train, y_train)\n",
    "y_train_pred_svr = svr.predict(X_train)\n",
    "y_pred_svr = svr.predict(X_test)\n",
    "\n",
    "# Store scores\n",
    "models_scores[\"Support Vector Machine (Tuned)\"] = train_val(y_train, y_train_pred_svr, y_test, y_pred_svr, \"SVR_Tuned\")\n",
    "cv_mean_svr, cv_std_svr = cross_val(svr, X_train, y_train)\n"
   ]
  },
  {
   "cell_type": "markdown",
   "id": "ad88dbd0-dfee-474d-9a7a-14b11e802f1a",
   "metadata": {},
   "source": [
    "### **Update K-Nearest Neighbors (KNN)**"
   ]
  },
  {
   "cell_type": "code",
   "execution_count": null,
   "id": "bbd319e8-a6d0-424a-bf1a-2bb3df7a4968",
   "metadata": {},
   "outputs": [],
   "source": [
    "# Best hyperparameters from RandomizedSearchCV\n",
    "knn_best_params = knn_random.best_params_\n",
    "\n",
    "knn = KNeighborsRegressor(\n",
    "    n_neighbors=knn_best_params['n_neighbors'],\n",
    "    weights=knn_best_params['weights'],\n",
    "    metric=knn_best_params['metric']\n",
    ")\n",
    "\n",
    "knn.fit(X_train, y_train)\n",
    "y_train_pred_knn = knn.predict(X_train)\n",
    "y_pred_knn = knn.predict(X_test)\n",
    "\n",
    "# Store scores\n",
    "models_scores[\"K-Nearest Neighbors (Tuned)\"] = train_val(y_train, y_train_pred_knn, y_test, y_pred_knn, \"KNN_Tuned\")\n",
    "cv_mean_knn, cv_std_knn = cross_val(knn, X_train, y_train)\n"
   ]
  },
  {
   "cell_type": "markdown",
   "id": "5dc8fb64-f07a-46a7-8d65-703537bdf5d7",
   "metadata": {},
   "source": [
    "### **Print Updated Results**"
   ]
  },
  {
   "cell_type": "code",
   "execution_count": null,
   "id": "8f237ebe-26d9-48b1-bf3e-4c9c82a0b557",
   "metadata": {},
   "outputs": [],
   "source": [
    "# Print scores for tuned models\n",
    "for models_names, score_df in models_scores.items():\n",
    "    print(f\"\\n Model: {models_names}\")\n",
    "    print(score_df)\n",
    "\n",
    "# Print cross-validation scores for tuned models\n",
    "cv_results = pd.DataFrame({\n",
    "    \"Model\": [\"Random Forest (Tuned)\", \"SVR (Tuned)\", \"KNN (Tuned)\"],\n",
    "    \"CV Mean R²\": [cv_mean_rf, cv_mean_svr, cv_mean_knn],\n",
    "    \"CV Std Dev\": [cv_std_rf, cv_std_svr, cv_std_knn]\n",
    "})\n",
    "\n",
    "print(\"\\n Cross-Validation Results (Tuned Models):\")\n",
    "print(cv_results.round(4))\n"
   ]
  },
  {
   "cell_type": "markdown",
   "id": "cfe540fb-2341-47ac-aa81-f15c8018bb6e",
   "metadata": {},
   "source": [
    "### **Train Polynomial Regression with Different Degrees**"
   ]
  },
  {
   "cell_type": "code",
   "execution_count": null,
   "id": "aa9c709c-4341-4104-b221-3258f3d7ef4d",
   "metadata": {},
   "outputs": [],
   "source": [
    "# Function to evaluate polynomial regression for different degrees\n",
    "def evaluate_polynomial_regression(degree):\n",
    "    poly_model = make_pipeline(PolynomialFeatures(degree), LinearRegression())\n",
    "    poly_model.fit(X_train, y_train)\n",
    "    \n",
    "    y_train_pred = poly_model.predict(X_train)\n",
    "    y_test_pred = poly_model.predict(X_test)\n",
    "\n",
    "    # Store scores\n",
    "    model_name = f\"Polynomial (Degree {degree})\"\n",
    "    models_scores[model_name] = train_val(y_train, y_train_pred, y_test, y_test_pred, model_name)\n",
    "\n",
    "    # Cross-validation\n",
    "    cv_mean = np.mean(cross_val_score(poly_model, X_train, y_train, cv=5, scoring='r2'))\n",
    "    cv_std = np.std(cross_val_score(poly_model, X_train, y_train, cv=5, scoring='r2'))\n",
    "    \n",
    "    return cv_mean, cv_std, poly_model\n"
   ]
  },
  {
   "cell_type": "markdown",
   "id": "413f8e36-841b-4378-88ef-43b3ceda1227",
   "metadata": {},
   "source": [
    "### **Test Different Polynomial Degrees**"
   ]
  },
  {
   "cell_type": "code",
   "execution_count": null,
   "id": "48b28ae7-489e-40a0-a184-bb9153df2030",
   "metadata": {},
   "outputs": [],
   "source": [
    "cv_results_poly = []\n",
    "best_poly_model = None\n",
    "best_r2 = float('-inf')\n",
    "\n",
    "for degree in range(1, 5):  # Test degrees from 1 to 4\n",
    "    cv_mean, cv_std, poly_model = evaluate_polynomial_regression(degree)\n",
    "    \n",
    "    # Store results\n",
    "    cv_results_poly.append({\"Degree\": degree, \"CV Mean R²\": cv_mean, \"CV Std Dev\": cv_std})\n",
    "\n",
    "    # Track the best polynomial model\n",
    "    if cv_mean > best_r2:\n",
    "        best_r2 = cv_mean\n",
    "        best_poly_model = poly_model\n"
   ]
  },
  {
   "cell_type": "markdown",
   "id": "0647eb30-bf97-4785-88a3-ec0bc6eea0f3",
   "metadata": {},
   "source": [
    "### **Display Results**"
   ]
  },
  {
   "cell_type": "code",
   "execution_count": null,
   "id": "9f54c54a-bd44-4a37-967c-3e52ac6a1d46",
   "metadata": {},
   "outputs": [],
   "source": [
    "cv_results_poly_df = pd.DataFrame(cv_results_poly)\n",
    "print(\"\\n Polynomial Regression Cross-Validation Results:\")\n",
    "print(cv_results_poly_df.round(4))\n",
    "\n",
    "# Best degree based on cross-validation\n",
    "best_degree = cv_results_poly_df.loc[cv_results_poly_df[\"CV Mean R²\"].idxmax(), \"Degree\"]\n",
    "print(f\"\\n🔹 Best Polynomial Degree: {best_degree}\")\n"
   ]
  },
  {
   "cell_type": "markdown",
   "id": "0092d8c8-58bc-473b-8c9e-89300fa567a2",
   "metadata": {},
   "source": [
    "## **Implementing the Best Polynomial Regression Model (Degree = 4) in the Tuned Model Workflow**"
   ]
  },
  {
   "cell_type": "markdown",
   "id": "6382a0aa-1405-4c24-8829-867cbe345698",
   "metadata": {},
   "source": [
    "**Now that we have determined that Polynomial Regression with Degree 4 gives the best performance, we will integrate it into the tuned model pipeline and compare it with Random Forest, KNN, and SVR.**"
   ]
  },
  {
   "cell_type": "markdown",
   "id": "4d1fa4b3-b68c-4a9d-adaf-92bd136daf5c",
   "metadata": {},
   "source": [
    "### **Train the Best Polynomial Regression Model**"
   ]
  },
  {
   "cell_type": "code",
   "execution_count": null,
   "id": "b45a96dd-0b47-47b6-b4be-cd976e45762f",
   "metadata": {},
   "outputs": [],
   "source": [
    "# Create and train the best polynomial model\n",
    "best_poly_model = make_pipeline(PolynomialFeatures(degree=4), LinearRegression())\n",
    "best_poly_model.fit(X_train, y_train)\n",
    "\n",
    "# Predict on train and test data\n",
    "y_train_pred_poly = best_poly_model.predict(X_train)\n",
    "y_test_pred_poly = best_poly_model.predict(X_test)\n",
    "\n",
    "# Store model evaluation scores\n",
    "models_scores[\"Polynomial Regression (Tuned)\"] = train_val(y_train, y_train_pred_poly, y_test, y_test_pred_poly, \"Polynomial_Tuned\")\n",
    "\n",
    "# Cross-validation scores for Polynomial Regression\n",
    "cv_mean_poly = np.mean(cross_val_score(best_poly_model, X_train, y_train, cv=5, scoring='r2'))\n",
    "cv_std_poly = np.std(cross_val_score(best_poly_model, X_train, y_train, cv=5, scoring='r2'))\n"
   ]
  },
  {
   "cell_type": "markdown",
   "id": "d2c1db8e-fefc-43cb-a0b6-15cf0f8bb7b3",
   "metadata": {},
   "source": [
    "# **Final tuned Models**"
   ]
  },
  {
   "cell_type": "markdown",
   "id": "ff31fff7-346c-4b96-931b-d919fda21f59",
   "metadata": {},
   "source": [
    "## **Compare  Polynomial Regression with Tuned Models**"
   ]
  },
  {
   "cell_type": "code",
   "execution_count": null,
   "id": "49de5c8d-4b96-418d-902b-187ed8e18be2",
   "metadata": {},
   "outputs": [],
   "source": [
    "cv_results = pd.DataFrame({\n",
    "    \"Model\": [\"Linear Regression\",\"Random Forest (Tuned)\",\"SVR (Tuned)\",\"KNN (Tuned)\", \"Polynomial Regression (Tuned)\"],\n",
    "    \"CV Mean R²\": [cv_mean_lr, cv_mean_rf,cv_mean_svr, cv_mean_knn, cv_mean_poly],\n",
    "    \"CV Std Dev\": [cv_std_lr, cv_std_rf,cv_std_svr, cv_std_knn, cv_std_poly]\n",
    "})\n",
    "\n",
    "print(\"\\n Cross-Validation Results for All Tuned Models:\")\n",
    "print(cv_results.round(4))\n"
   ]
  },
  {
   "cell_type": "markdown",
   "id": "a13e982c-3c58-4134-85f2-8c89e28012ca",
   "metadata": {},
   "source": [
    "# **Visualizing Performance**"
   ]
  },
  {
   "cell_type": "markdown",
   "id": "cda79d93-bc36-4607-b969-8d602d76df93",
   "metadata": {},
   "source": [
    "**Now that we have optimized our models, let's visualize their predictions**"
   ]
  },
  {
   "cell_type": "markdown",
   "id": "a6556121-3a42-41a4-b209-1e8e1780cce4",
   "metadata": {},
   "source": [
    "### **Scatter Plot (Actual vs. Predicted)**"
   ]
  },
  {
   "cell_type": "code",
   "execution_count": null,
   "id": "c373993f-bafa-462e-9491-a7927b4f77b2",
   "metadata": {},
   "outputs": [],
   "source": [
    "def plot_actual_vs_pred(y_test, y_pred, model_name):\n",
    "    plt.figure(figsize=(6, 6))\n",
    "    sns.scatterplot(x=y_test, y=y_pred, alpha=0.6, edgecolor='k')\n",
    "    plt.plot([y_test.min(), y_test.max()], [y_test.min(), y_test.max()], '--r', linewidth=2)  # Perfect fit line\n",
    "    plt.xlabel(\"Actual Values\")\n",
    "    plt.ylabel(\"Predicted Values\")\n",
    "    plt.title(f\"{model_name}: Actual vs Predicted\")\n",
    "    plt.grid()\n",
    "    plt.show()\n",
    "\n",
    "# Plot for best models\n",
    "plot_actual_vs_pred(y_test, y_pred_lr, \"Linear Regression\")\n",
    "plot_actual_vs_pred(y_test, y_pred_rf, \"Random Forest (Tuned)\")\n",
    "plot_actual_vs_pred(y_test, y_pred_svr, \"SVR (Tuned)\")\n",
    "plot_actual_vs_pred(y_test, y_pred_knn, \"KNN (Tuned)\")\n",
    "plot_actual_vs_pred(y_test, y_test_pred_poly, \"Polynomial Regression (Tuned, Degree 4)\")"
   ]
  },
  {
   "cell_type": "markdown",
   "id": "84efe3cf-6ac6-4d8b-89f1-755962e7ab66",
   "metadata": {},
   "source": [
    "### **Residual Distribution**"
   ]
  },
  {
   "cell_type": "code",
   "execution_count": null,
   "id": "9d6dbe94-3ff8-4d70-bd31-bfa85ee39f91",
   "metadata": {},
   "outputs": [],
   "source": [
    "def plot_residuals(y_test, y_pred, model_name):\n",
    "    residuals = y_test - y_pred\n",
    "    plt.figure(figsize=(6, 4))\n",
    "    sns.histplot(residuals, kde=True, bins=30, color=\"blue\", alpha=0.6)\n",
    "    plt.axvline(0, color='red', linestyle='dashed', linewidth=2)  # Zero residual line\n",
    "    plt.xlabel(\"Residuals (Actual - Predicted)\")\n",
    "    plt.ylabel(\"Frequency\")\n",
    "    plt.title(f\"{model_name}: Residual Distribution\")\n",
    "    plt.grid()\n",
    "    plt.show()\n",
    "\n",
    "# Plot residuals for best models\n",
    "plot_residuals(y_test,y_pred_lr,\"Linear Regression\")\n",
    "plot_residuals(y_test, y_pred_rf, \"Random Forest (Tuned)\")\n",
    "plot_residuals(y_test, y_pred_svr, \"SVR (Tuned)\")\n",
    "plot_residuals(y_test, y_pred_knn, \"KNN (Tuned)\")\n",
    "plot_residuals(y_test, y_test_pred_poly, \"Polynomial Regression (Tuned, Degree 4)\")"
   ]
  },
  {
   "cell_type": "markdown",
   "id": "28b22d6a-dc23-4899-9c7f-9d9f35148a49",
   "metadata": {},
   "source": [
    "###  **Box Plot Comparison of Errors**"
   ]
  },
  {
   "cell_type": "code",
   "execution_count": null,
   "id": "74b9cde4-e5aa-4b19-b1f2-9fc312b2b38c",
   "metadata": {},
   "outputs": [],
   "source": [
    "errors_df = pd.DataFrame({\n",
    "    \"Linear Regression\": abs(y_test - y_pred_lr),\n",
    "    \"Random Forest (Tuned)\": abs(y_test - y_pred_rf),\n",
    "    \"SVR (Tuned)\": abs(y_test - y_pred_svr),\n",
    "    \"KNN (Tuned)\": abs(y_test - y_pred_knn),\n",
    "    \"Polynomial Regression (Tuned)\":abs(y_test - y_test_pred_poly)\n",
    "\n",
    "})\n",
    "\n",
    "plt.figure(figsize=(12, 6))\n",
    "sns.boxplot(data=errors_df)\n",
    "plt.ylabel(\"Absolute Error\")\n",
    "plt.title(\"Comparison of Model Errors\")\n",
    "plt.grid()\n",
    "plt.show()\n"
   ]
  },
  {
   "cell_type": "markdown",
   "id": "a68b7902-d8f9-430e-8711-b65eebf7f06e",
   "metadata": {},
   "source": [
    "# **MODEL DEPLOYMENT**"
   ]
  },
  {
   "cell_type": "raw",
   "id": "155828d9-6192-4e2a-8aea-ad84b6ef7ac7",
   "metadata": {},
   "source": [
    "import joblib\n",
    "\n",
    "# Save the best model \n",
    "joblib.dump(rf, \"random_forest_model.pkl\")\n",
    "\n",
    "print(\"Model saved successfully !\")\n"
   ]
  },
  {
   "cell_type": "raw",
   "id": "44a2d56b-1ca1-4c20-8bb0-5df917325117",
   "metadata": {},
   "source": []
  },
  {
   "cell_type": "code",
   "execution_count": null,
   "id": "5d422f82-b323-4055-85fa-723a883efb80",
   "metadata": {},
   "outputs": [],
   "source": []
  }
 ],
 "metadata": {
  "kernelspec": {
   "display_name": "Python 3",
   "language": "python",
   "name": "python3"
  },
  "language_info": {
   "codemirror_mode": {
    "name": "ipython",
    "version": 3
   },
   "file_extension": ".py",
   "mimetype": "text/x-python",
   "name": "python",
   "nbconvert_exporter": "python",
   "pygments_lexer": "ipython3",
   "version": "3.10.8"
  }
 },
 "nbformat": 4,
 "nbformat_minor": 5
}
